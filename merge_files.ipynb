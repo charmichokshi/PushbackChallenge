{
  "nbformat": 4,
  "nbformat_minor": 0,
  "metadata": {
    "colab": {
      "provenance": []
    },
    "kernelspec": {
      "name": "python3",
      "display_name": "Python 3"
    },
    "language_info": {
      "name": "python"
    }
  },
  "cells": [
    {
      "cell_type": "code",
      "execution_count": 1,
      "metadata": {
        "colab": {
          "base_uri": "https://localhost:8080/"
        },
        "id": "850_hblMs4zu",
        "outputId": "e0836311-2f28-4b22-b711-b5247fc49524"
      },
      "outputs": [
        {
          "output_type": "stream",
          "name": "stdout",
          "text": [
            "Mounted at /content/drive\n"
          ]
        }
      ],
      "source": [
        "from google.colab import drive\n",
        "drive.mount('/content/drive')"
      ]
    },
    {
      "cell_type": "code",
      "source": [
        "%cd '/content/drive/MyDrive/'"
      ],
      "metadata": {
        "colab": {
          "base_uri": "https://localhost:8080/"
        },
        "id": "alFVrHi6tEJn",
        "outputId": "fc9581ef-87c6-4f8e-aa76-18ecd825e05b"
      },
      "execution_count": 2,
      "outputs": [
        {
          "output_type": "stream",
          "name": "stdout",
          "text": [
            "/content/drive/MyDrive\n"
          ]
        }
      ]
    },
    {
      "cell_type": "code",
      "source": [
        "!tar -xvf KATL.tar"
      ],
      "metadata": {
        "colab": {
          "base_uri": "https://localhost:8080/"
        },
        "id": "GRnWX9oMtYKZ",
        "outputId": "61fc1de5-4226-4604-d384-540af71daf01"
      },
      "execution_count": 3,
      "outputs": [
        {
          "output_type": "stream",
          "name": "stdout",
          "text": [
            "KATL/\n",
            "KATL/KATL_config.csv.bz2\n",
            "KATL/KATL_etd.csv.bz2\n",
            "KATL/KATL_first_position.csv.bz2\n",
            "KATL/KATL_lamp.csv.bz2\n",
            "KATL/KATL_mfs.csv.bz2\n",
            "KATL/KATL_runways.csv.bz2\n",
            "KATL/KATL_standtimes.csv.bz2\n",
            "KATL/KATL_tbfm.csv.bz2\n",
            "KATL/KATL_tfm.csv.bz2\n",
            "train_labels_KATL.csv.bz2\n"
          ]
        }
      ]
    },
    {
      "cell_type": "code",
      "source": [
        "from datetime import timedelta\n",
        "from pathlib import Path\n",
        "\n",
        "import matplotlib.pyplot as plt\n",
        "import numpy as np\n",
        "import pandas as pd\n",
        "\n",
        "DATA_DIRECTORY = Path('/content/drive/MyDrive/')"
      ],
      "metadata": {
        "id": "eQjbqfwkuLpN"
      },
      "execution_count": 5,
      "outputs": []
    },
    {
      "cell_type": "markdown",
      "source": [
        "**Reading Train Labels of KATL airport**"
      ],
      "metadata": {
        "id": "sbiEWMx4u9y1"
      }
    },
    {
      "cell_type": "code",
      "source": [
        "airport = \"KATL\"\n",
        "pushback_katl = pd.read_csv(DATA_DIRECTORY / f\"train_labels_{airport}.csv.bz2\")\n",
        "pushback_katl"
      ],
      "metadata": {
        "id": "bBPFixrUth8l"
      },
      "execution_count": null,
      "outputs": []
    },
    {
      "cell_type": "markdown",
      "source": [
        "**Reading features of KATL airport**\n",
        "\n",
        "> Airport Configuration, ETD, First Position, LAMP, Standtimes, TBFM, TFM\n",
        "\n"
      ],
      "metadata": {
        "id": "S_u_sKWUvDLh"
      }
    },
    {
      "cell_type": "code",
      "source": [
        "etd_katl = pd.read_csv(\n",
        "    DATA_DIRECTORY / airport / f\"{airport}_etd.csv.bz2\",\n",
        "    parse_dates=[\"departure_runway_estimated_time\", \"timestamp\"],\n",
        ")\n",
        "etd_katl"
      ],
      "metadata": {
        "id": "I93kLWc-uU-2"
      },
      "execution_count": null,
      "outputs": []
    },
    {
      "cell_type": "code",
      "source": [
        "config_katl = pd.read_csv(\n",
        "    DATA_DIRECTORY / airport / f\"{airport}_config.csv.bz2\",\n",
        ")\n",
        "config_katl"
      ],
      "metadata": {
        "id": "MU8TOndQwMPD"
      },
      "execution_count": null,
      "outputs": []
    },
    {
      "cell_type": "code",
      "source": [
        "first_position_katl = pd.read_csv(\n",
        "    DATA_DIRECTORY / airport / f\"{airport}_first_position.csv.bz2\",\n",
        ")\n",
        "first_position_katl"
      ],
      "metadata": {
        "id": "b9PNVMDE24I9"
      },
      "execution_count": null,
      "outputs": []
    },
    {
      "cell_type": "code",
      "source": [
        "lamp_katl = pd.read_csv(\n",
        "    DATA_DIRECTORY / airport / f\"{airport}_lamp.csv.bz2\",\n",
        ")\n",
        "lamp_katl"
      ],
      "metadata": {
        "id": "idkYe6u73VDD"
      },
      "execution_count": null,
      "outputs": []
    },
    {
      "cell_type": "code",
      "source": [
        "standtimes_katl = pd.read_csv(\n",
        "    DATA_DIRECTORY / airport / f\"{airport}_standtimes.csv.bz2\",\n",
        ")\n",
        "standtimes_katl"
      ],
      "metadata": {
        "id": "HNiChitQ3iJo"
      },
      "execution_count": null,
      "outputs": []
    },
    {
      "cell_type": "code",
      "source": [
        "tbfm_katl = pd.read_csv(\n",
        "    DATA_DIRECTORY / airport / f\"{airport}_tbfm.csv.bz2\",\n",
        ")\n",
        "tbfm_katl"
      ],
      "metadata": {
        "id": "hyqgeoE-3irr"
      },
      "execution_count": null,
      "outputs": []
    },
    {
      "cell_type": "code",
      "source": [
        "tfm_katl = pd.read_csv(\n",
        "    DATA_DIRECTORY / airport / f\"{airport}_tfm.csv.bz2\",\n",
        ")\n",
        "tfm_katl"
      ],
      "metadata": {
        "id": "nh-9CQbC3jSp"
      },
      "execution_count": null,
      "outputs": []
    },
    {
      "cell_type": "code",
      "source": [
        "print(len(etd_katl), len(config_katl), len(first_position_katl), len(lamp_katl), len(standtimes_katl))"
      ],
      "metadata": {
        "colab": {
          "base_uri": "https://localhost:8080/"
        },
        "id": "HKiqWQp4CwkS",
        "outputId": "23009e99-070a-42be-821b-6a955b619534"
      },
      "execution_count": 34,
      "outputs": [
        {
          "output_type": "stream",
          "name": "stdout",
          "text": [
            "13327021 23508 698729 384678 1195540\n"
          ]
        }
      ]
    },
    {
      "cell_type": "markdown",
      "source": [
        "**Merging all data for KATL airport based on timestamp**"
      ],
      "metadata": {
        "id": "JIEAz1TL51qU"
      }
    },
    {
      "cell_type": "code",
      "source": [
        "from datetime import datetime\n",
        "def convert_datetime(dt):\n",
        "    return datetime.strftime(dt, '%Y-%m-%d %H:%M-%S')\n",
        "\n",
        "etd_katl['timestamp']= etd_katl['timestamp'].apply(convert_datetime)"
      ],
      "metadata": {
        "id": "Otm2h1XVEBx8"
      },
      "execution_count": null,
      "outputs": []
    },
    {
      "cell_type": "code",
      "source": [
        "from functools import reduce\n",
        "\n",
        "#define list of DataFrames\n",
        "dfs = [etd_katl, config_katl, first_position_katl, lamp_katl, standtimes_katl]\n",
        "\n",
        "#merge all DataFrames into one\n",
        "final_df = reduce(lambda  left,right: pd.merge(left,right,on=['timestamp'],\n",
        "                                            how='outer'), dfs)\n",
        "\n",
        "#view merged DataFrame\n",
        "print(final_df)"
      ],
      "metadata": {
        "colab": {
          "base_uri": "https://localhost:8080/"
        },
        "id": "NdAP5IYK4_y4",
        "outputId": "0e720066-67e6-4e42-82ea-490a81c62792"
      },
      "execution_count": 32,
      "outputs": [
        {
          "output_type": "stream",
          "name": "stdout",
          "text": [
            "                                 gufi_x            timestamp  \\\n",
            "0    FFT17.ATL.MBJ.211031.1050.0029.TFM  2021-11-01 07:00-13   \n",
            "1  AAR2513.ATL.ICN.211101.0200.0185.TMA  2021-11-01 07:00-23   \n",
            "2   FFT100.ATL.SJU.211031.1625.0067.TFM  2021-11-01 07:00-29   \n",
            "3   FFT419.ATL.DEN.211031.1625.0073.TFM  2021-11-01 07:00-45   \n",
            "4   FFT421.ATL.DEN.211101.0140.0090.TFM  2021-11-01 07:00-49   \n",
            "5   FFT647.ATL.CVG.211031.1730.0173.TFM  2021-11-01 07:02-07   \n",
            "6   FFT806.ATL.TTN.211031.1505.0022.TFM  2021-11-01 07:03-04   \n",
            "7    DAL84.ATL.CDG.211031.0350.0041.TFM  2021-11-01 07:03-57   \n",
            "8  DAL9962.ATL.EYW.211101.0420.0011.TFM  2021-11-01 07:05-01   \n",
            "9   JBU467.ATL.FLL.211031.1000.0205.TFM  2021-11-01 07:08-37   \n",
            "\n",
            "  departure_runway_estimated_time start_time departure_runways  \\\n",
            "0             2021-11-01 11:06:00        NaN               NaN   \n",
            "1             2021-11-01 05:01:00        NaN               NaN   \n",
            "2             2021-11-01 16:41:00        NaN               NaN   \n",
            "3             2021-11-01 16:39:00        NaN               NaN   \n",
            "4             2021-11-02 01:52:00        NaN               NaN   \n",
            "5             2021-11-01 17:45:00        NaN               NaN   \n",
            "6             2021-11-01 15:19:00        NaN               NaN   \n",
            "7             2021-11-01 04:02:00        NaN               NaN   \n",
            "8             2021-11-01 10:10:00        NaN               NaN   \n",
            "9             2021-11-01 10:09:00        NaN               NaN   \n",
            "\n",
            "  arrival_runways gufi_y forecast_timestamp  temperature  wind_direction  \\\n",
            "0             NaN    NaN                NaN          NaN             NaN   \n",
            "1             NaN    NaN                NaN          NaN             NaN   \n",
            "2             NaN    NaN                NaN          NaN             NaN   \n",
            "3             NaN    NaN                NaN          NaN             NaN   \n",
            "4             NaN    NaN                NaN          NaN             NaN   \n",
            "5             NaN    NaN                NaN          NaN             NaN   \n",
            "6             NaN    NaN                NaN          NaN             NaN   \n",
            "7             NaN    NaN                NaN          NaN             NaN   \n",
            "8             NaN    NaN                NaN          NaN             NaN   \n",
            "9             NaN    NaN                NaN          NaN             NaN   \n",
            "\n",
            "   wind_speed  wind_gust  cloud_ceiling  visibility cloud lightning_prob  \\\n",
            "0         NaN        NaN            NaN         NaN   NaN            NaN   \n",
            "1         NaN        NaN            NaN         NaN   NaN            NaN   \n",
            "2         NaN        NaN            NaN         NaN   NaN            NaN   \n",
            "3         NaN        NaN            NaN         NaN   NaN            NaN   \n",
            "4         NaN        NaN            NaN         NaN   NaN            NaN   \n",
            "5         NaN        NaN            NaN         NaN   NaN            NaN   \n",
            "6         NaN        NaN            NaN         NaN   NaN            NaN   \n",
            "7         NaN        NaN            NaN         NaN   NaN            NaN   \n",
            "8         NaN        NaN            NaN         NaN   NaN            NaN   \n",
            "9         NaN        NaN            NaN         NaN   NaN            NaN   \n",
            "\n",
            "  precip gufi arrival_stand_actual_time departure_stand_actual_time  \n",
            "0    NaN  NaN                       NaN                         NaN  \n",
            "1    NaN  NaN                       NaN                         NaN  \n",
            "2    NaN  NaN                       NaN                         NaN  \n",
            "3    NaN  NaN                       NaN                         NaN  \n",
            "4    NaN  NaN                       NaN                         NaN  \n",
            "5    NaN  NaN                       NaN                         NaN  \n",
            "6    NaN  NaN                       NaN                         NaN  \n",
            "7    NaN  NaN                       NaN                         NaN  \n",
            "8    NaN  NaN                       NaN                         NaN  \n",
            "9    NaN  NaN                       NaN                         NaN  \n"
          ]
        }
      ]
    },
    {
      "cell_type": "markdown",
      "source": [
        "**Script to merge features of all 10 airports based on timestamp**"
      ],
      "metadata": {
        "id": "37iJWyZfEYvs"
      }
    },
    {
      "cell_type": "code",
      "source": [
        "!tar -xvf KCLT.tar\n",
        "!tar -xvf KDEN.tar\n",
        "!tar -xvf KDFW.tar\n",
        "!tar -xvf KJFK.tar\n",
        "!tar -xvf KMEM.tar\n",
        "!tar -xvf KMIA.tar\n",
        "!tar -xvf KORD.tar\n",
        "!tar -xvf KPHX.tar\n",
        "!tar -xvf KSEA.tar"
      ],
      "metadata": {
        "colab": {
          "base_uri": "https://localhost:8080/"
        },
        "id": "3_Hh0QctEX5m",
        "outputId": "34f7ddf1-efd3-4bc0-eef6-71dc1180b5ce"
      },
      "execution_count": 36,
      "outputs": [
        {
          "output_type": "stream",
          "name": "stdout",
          "text": [
            "KCLT/\n",
            "KCLT/KCLT_config.csv.bz2\n",
            "KCLT/KCLT_etd.csv.bz2\n",
            "KCLT/KCLT_first_position.csv.bz2\n",
            "KCLT/KCLT_lamp.csv.bz2\n",
            "KCLT/KCLT_mfs.csv.bz2\n",
            "KCLT/KCLT_runways.csv.bz2\n",
            "KCLT/KCLT_standtimes.csv.bz2\n",
            "KCLT/KCLT_tbfm.csv.bz2\n",
            "KCLT/KCLT_tfm.csv.bz2\n",
            "train_labels_KCLT.csv.bz2\n",
            "KDEN/\n",
            "KDEN/KDEN_config.csv.bz2\n",
            "KDEN/KDEN_etd.csv.bz2\n",
            "KDEN/KDEN_first_position.csv.bz2\n",
            "KDEN/KDEN_lamp.csv.bz2\n",
            "KDEN/KDEN_mfs.csv.bz2\n",
            "KDEN/KDEN_runways.csv.bz2\n",
            "KDEN/KDEN_standtimes.csv.bz2\n",
            "KDEN/KDEN_tbfm.csv.bz2\n",
            "KDEN/KDEN_tfm.csv.bz2\n",
            "train_labels_KDEN.csv.bz2\n",
            "KDFW/\n",
            "KDFW/KDFW_config.csv.bz2\n",
            "KDFW/KDFW_etd.csv.bz2\n",
            "KDFW/KDFW_first_position.csv.bz2\n",
            "KDFW/KDFW_lamp.csv.bz2\n",
            "KDFW/KDFW_mfs.csv.bz2\n",
            "KDFW/KDFW_runways.csv.bz2\n",
            "KDFW/KDFW_standtimes.csv.bz2\n",
            "KDFW/KDFW_tbfm.csv.bz2\n",
            "KDFW/KDFW_tfm.csv.bz2\n",
            "train_labels_KDFW.csv.bz2\n",
            "KJFK/\n",
            "KJFK/KJFK_config.csv.bz2\n",
            "KJFK/KJFK_etd.csv.bz2\n",
            "KJFK/KJFK_first_position.csv.bz2\n",
            "KJFK/KJFK_lamp.csv.bz2\n",
            "KJFK/KJFK_mfs.csv.bz2\n",
            "KJFK/KJFK_runways.csv.bz2\n",
            "KJFK/KJFK_standtimes.csv.bz2\n",
            "KJFK/KJFK_tbfm.csv.bz2\n",
            "KJFK/KJFK_tfm.csv.bz2\n",
            "train_labels_KJFK.csv.bz2\n",
            "KMEM/\n",
            "KMEM/KMEM_config.csv.bz2\n",
            "KMEM/KMEM_etd.csv.bz2\n",
            "KMEM/KMEM_first_position.csv.bz2\n",
            "KMEM/KMEM_lamp.csv.bz2\n",
            "KMEM/KMEM_mfs.csv.bz2\n",
            "KMEM/KMEM_runways.csv.bz2\n",
            "KMEM/KMEM_standtimes.csv.bz2\n",
            "KMEM/KMEM_tbfm.csv.bz2\n",
            "KMEM/KMEM_tfm.csv.bz2\n",
            "train_labels_KMEM.csv.bz2\n",
            "KMIA/\n",
            "KMIA/KMIA_config.csv.bz2\n",
            "KMIA/KMIA_etd.csv.bz2\n",
            "KMIA/KMIA_first_position.csv.bz2\n",
            "KMIA/KMIA_lamp.csv.bz2\n",
            "KMIA/KMIA_mfs.csv.bz2\n",
            "KMIA/KMIA_runways.csv.bz2\n",
            "KMIA/KMIA_standtimes.csv.bz2\n",
            "KMIA/KMIA_tbfm.csv.bz2\n",
            "KMIA/KMIA_tfm.csv.bz2\n",
            "train_labels_KMIA.csv.bz2\n",
            "KORD/\n",
            "KORD/KORD_config.csv.bz2\n",
            "KORD/KORD_etd.csv.bz2\n",
            "KORD/KORD_first_position.csv.bz2\n",
            "KORD/KORD_lamp.csv.bz2\n",
            "KORD/KORD_mfs.csv.bz2\n",
            "KORD/KORD_runways.csv.bz2\n",
            "KORD/KORD_standtimes.csv.bz2\n",
            "KORD/KORD_tbfm.csv.bz2\n",
            "KORD/KORD_tfm.csv.bz2\n",
            "train_labels_KORD.csv.bz2\n",
            "KPHX/\n",
            "KPHX/KPHX_config.csv.bz2\n",
            "KPHX/KPHX_etd.csv.bz2\n",
            "KPHX/KPHX_first_position.csv.bz2\n",
            "KPHX/KPHX_lamp.csv.bz2\n",
            "KPHX/KPHX_mfs.csv.bz2\n",
            "KPHX/KPHX_runways.csv.bz2\n",
            "KPHX/KPHX_standtimes.csv.bz2\n",
            "KPHX/KPHX_tbfm.csv.bz2\n",
            "KPHX/KPHX_tfm.csv.bz2\n",
            "train_labels_KPHX.csv.bz2\n",
            "KSEA/\n",
            "KSEA/KSEA_config.csv.bz2\n",
            "KSEA/KSEA_etd.csv.bz2\n",
            "KSEA/KSEA_first_position.csv.bz2\n",
            "KSEA/KSEA_lamp.csv.bz2\n",
            "KSEA/KSEA_mfs.csv.bz2\n",
            "KSEA/KSEA_runways.csv.bz2\n",
            "KSEA/KSEA_standtimes.csv.bz2\n",
            "KSEA/KSEA_tbfm.csv.bz2\n",
            "KSEA/KSEA_tfm.csv.bz2\n",
            "train_labels_KSEA.csv.bz2\n"
          ]
        }
      ]
    },
    {
      "cell_type": "code",
      "source": [
        "airports = [\n",
        "    \"KATL\",\n",
        "    \"KCLT\",\n",
        "    \"KDEN\"\n",
        "    \"KDFW\",\n",
        "    \"KJFK\",\n",
        "    \"KMEM\",\n",
        "    \"KMIA\",\n",
        "    \"KORD\",\n",
        "    \"KPHX\",\n",
        "    \"KSEA\"]\n",
        "\n",
        "for airport in airports:\n",
        "\n",
        "  '''\n",
        "  To maintain dataframe for each feature for individual airport use this:\n",
        "\n",
        "  globals()[\"etd_\"f\"{airport}\"] = pd.read_csv(\n",
        "      DATA_DIRECTORY / airport / f\"{airport}_etd.csv.bz2\"\n",
        "  )\n",
        "\n",
        "  '''\n",
        "  etd = pd.read_csv(\n",
        "      DATA_DIRECTORY / airport / f\"{airport}_etd.csv.bz2\"\n",
        "  )\n",
        "\n",
        "  config = pd.read_csv(\n",
        "      DATA_DIRECTORY / airport / f\"{airport}_config.csv.bz2\"\n",
        "  )\n",
        "\n",
        "  first_position = pd.read_csv(\n",
        "      DATA_DIRECTORY / airport / f\"{airport}_first_position.csv.bz2\"\n",
        "  )\n",
        "\n",
        "  lamp = pd.read_csv(\n",
        "      DATA_DIRECTORY / airport / f\"{airport}_lamp.csv.bz2\"\n",
        "  )\n",
        "\n",
        "  standtimes = pd.read_csv(\n",
        "      DATA_DIRECTORY / airport / f\"{airport}_standtimes.csv.bz2\"\n",
        "  )"
      ],
      "metadata": {
        "id": "fY5zkE_4Hxnb"
      },
      "execution_count": null,
      "outputs": []
    },
    {
      "cell_type": "code",
      "source": [
        "#Data type of timestamp in etd files is different than other other files. Converting the datetime64 type to object.\n",
        "from datetime import datetime\n",
        "def convert_datetime(dt):\n",
        "    return datetime.strftime(dt, '%Y-%m-%d %H:%M-%S')\n",
        "\n",
        "etd['timestamp']= etd['timestamp'].apply(convert_datetime)"
      ],
      "metadata": {
        "id": "AkxA5nrxXD6l"
      },
      "execution_count": null,
      "outputs": []
    },
    {
      "cell_type": "code",
      "source": [
        "from functools import reduce\n",
        "\n",
        "#define list of DataFrames\n",
        "dfs = [etd, config, first_position, lamp, standtimes]\n",
        "\n",
        "#merge all DataFrames into one\n",
        "final_df = reduce(lambda  left,right: pd.merge(left,right,on=['timestamp'],\n",
        "                                            how='outer'), dfs)\n",
        "\n",
        "#view merged DataFrame\n",
        "print(final_df)"
      ],
      "metadata": {
        "id": "pKo5Stn0Z5TT"
      },
      "execution_count": null,
      "outputs": []
    }
  ]
}