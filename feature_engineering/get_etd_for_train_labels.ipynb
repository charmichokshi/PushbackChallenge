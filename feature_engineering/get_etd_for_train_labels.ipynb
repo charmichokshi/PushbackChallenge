{
 "cells": [
  {
   "cell_type": "code",
   "execution_count": 1,
   "id": "75d187e2",
   "metadata": {},
   "outputs": [],
   "source": [
    "from datetime import timedelta\n",
    "from pathlib import Path\n",
    "\n",
    "import matplotlib.pyplot as plt\n",
    "import numpy as np\n",
    "import pandas as pd\n",
    "\n",
    "from tqdm import tqdm\n",
    "from tqdm.contrib.concurrent import process_map"
   ]
  },
  {
   "cell_type": "code",
   "execution_count": 2,
   "id": "a12f250d",
   "metadata": {},
   "outputs": [],
   "source": [
    "airports = [\n",
    "    \"KATL\",\n",
    "    \"KCLT\",\n",
    "    \"KDEN\",\n",
    "    \"KDFW\",\n",
    "    \"KJFK\",\n",
    "    \"KMEM\",\n",
    "    \"KMIA\",\n",
    "    \"KORD\",\n",
    "    \"KPHX\",\n",
    "    \"KSEA\",\n",
    "]"
   ]
  },
  {
   "cell_type": "code",
   "execution_count": 82,
   "id": "a7210350",
   "metadata": {},
   "outputs": [
    {
     "data": {
      "text/plain": [
       "'KSEA'"
      ]
     },
     "execution_count": 82,
     "metadata": {},
     "output_type": "execute_result"
    }
   ],
   "source": [
    "airport = airports[9]\n",
    "airport"
   ]
  },
  {
   "cell_type": "code",
   "execution_count": 83,
   "id": "d3b69709",
   "metadata": {},
   "outputs": [
    {
     "name": "stdout",
     "output_type": "stream",
     "text": [
      "/home/charmichokshi4444/Data\r\n"
     ]
    }
   ],
   "source": [
    "!pwd"
   ]
  },
  {
   "cell_type": "code",
   "execution_count": 84,
   "id": "760d288c",
   "metadata": {},
   "outputs": [],
   "source": [
    "# !tar -xvf KSEA.tar"
   ]
  },
  {
   "cell_type": "code",
   "execution_count": 85,
   "id": "e996f767",
   "metadata": {},
   "outputs": [],
   "source": [
    "DATA_DIRECTORY = Path(\"./\")\n"
   ]
  },
  {
   "cell_type": "code",
   "execution_count": 86,
   "id": "d9330386",
   "metadata": {},
   "outputs": [
    {
     "data": {
      "text/plain": [
       "PosixPath('.')"
      ]
     },
     "execution_count": 86,
     "metadata": {},
     "output_type": "execute_result"
    }
   ],
   "source": [
    "DATA_DIRECTORY"
   ]
  },
  {
   "cell_type": "code",
   "execution_count": 87,
   "id": "f8d3f667",
   "metadata": {},
   "outputs": [],
   "source": [
    "# airport = \"KSEA\"\n",
    "pushback = pd.read_csv(DATA_DIRECTORY / f\"train_labels_{airport}.csv.bz2\")\n",
    "# pushback"
   ]
  },
  {
   "cell_type": "code",
   "execution_count": 88,
   "id": "b490565d",
   "metadata": {},
   "outputs": [],
   "source": [
    "etd = pd.read_csv(\n",
    "    DATA_DIRECTORY / airport / f\"{airport}_etd.csv.bz2\",\n",
    "    parse_dates=[\"departure_runway_estimated_time\", \"timestamp\"],\n",
    ").sort_values(\"timestamp\")\n",
    "# etd"
   ]
  },
  {
   "cell_type": "markdown",
   "id": "6fc65f84",
   "metadata": {},
   "source": [
    "# get the etd for each pushback line"
   ]
  },
  {
   "cell_type": "code",
   "execution_count": 89,
   "id": "28e045ad",
   "metadata": {},
   "outputs": [
    {
     "name": "stdout",
     "output_type": "stream",
     "text": [
      "<class 'pandas.core.frame.DataFrame'>\n",
      "RangeIndex: 1647433 entries, 0 to 1647432\n",
      "Data columns (total 4 columns):\n",
      " #   Column                  Non-Null Count    Dtype \n",
      "---  ------                  --------------    ----- \n",
      " 0   gufi                    1647433 non-null  object\n",
      " 1   timestamp               1647433 non-null  object\n",
      " 2   airport                 1647433 non-null  object\n",
      " 3   minutes_until_pushback  1647433 non-null  int64 \n",
      "dtypes: int64(1), object(3)\n",
      "memory usage: 50.3+ MB\n"
     ]
    }
   ],
   "source": [
    "pushback.info()"
   ]
  },
  {
   "cell_type": "code",
   "execution_count": 90,
   "id": "ec7b4d67",
   "metadata": {},
   "outputs": [],
   "source": [
    "cp = pushback\n",
    "# cpp = cp.iloc[0:15]\n",
    "cp['timestamp'] = pd.to_datetime(cp['timestamp'])\n",
    "# # cpp.info()"
   ]
  },
  {
   "cell_type": "code",
   "execution_count": 91,
   "id": "e10d5edc",
   "metadata": {},
   "outputs": [
    {
     "name": "stdout",
     "output_type": "stream",
     "text": [
      "<class 'pandas.core.frame.DataFrame'>\n",
      "RangeIndex: 1647433 entries, 0 to 1647432\n",
      "Data columns (total 4 columns):\n",
      " #   Column                  Non-Null Count    Dtype         \n",
      "---  ------                  --------------    -----         \n",
      " 0   gufi                    1647433 non-null  object        \n",
      " 1   timestamp               1647433 non-null  datetime64[ns]\n",
      " 2   airport                 1647433 non-null  object        \n",
      " 3   minutes_until_pushback  1647433 non-null  int64         \n",
      "dtypes: datetime64[ns](1), int64(1), object(2)\n",
      "memory usage: 50.3+ MB\n"
     ]
    }
   ],
   "source": [
    "cp.info()"
   ]
  },
  {
   "cell_type": "code",
   "execution_count": 92,
   "id": "001db3b2",
   "metadata": {},
   "outputs": [
    {
     "data": {
      "application/vnd.jupyter.widget-view+json": {
       "model_id": "2d8acf050baa4cd9ab65fac0aabbe814",
       "version_major": 2,
       "version_minor": 0
      },
      "text/plain": [
       "  0%|          | 0/50438 [00:00<?, ?it/s]"
      ]
     },
     "metadata": {},
     "output_type": "display_data"
    },
    {
     "name": "stdout",
     "output_type": "stream",
     "text": [
      "<class 'pandas.core.frame.DataFrame'>\n",
      "RangeIndex: 1647433 entries, 0 to 1647432\n",
      "Data columns (total 5 columns):\n",
      " #   Column                           Non-Null Count    Dtype         \n",
      "---  ------                           --------------    -----         \n",
      " 0   gufi                             1647433 non-null  object        \n",
      " 1   timestamp                        1647433 non-null  datetime64[ns]\n",
      " 2   airport                          1647433 non-null  object        \n",
      " 3   minutes_until_pushback           1647433 non-null  int64         \n",
      " 4   departure_runway_estimated_time  1647433 non-null  datetime64[ns]\n",
      "dtypes: datetime64[ns](2), int64(1), object(2)\n",
      "memory usage: 62.8+ MB\n"
     ]
    }
   ],
   "source": [
    "def estimate_pushback(now: pd.Timestamp) -> pd.Series:\n",
    "\n",
    "    # subset submission format to the current prediction time\n",
    "    now_submission_format = cp.loc[\n",
    "        cp.timestamp == now\n",
    "    ].reset_index(drop=True)\n",
    "\n",
    "    # filter features to 30 hours before prediction time to prediction time\n",
    "    now_etd = etd.loc[(etd.timestamp > now - timedelta(hours=30)) & (etd.timestamp <= now)]\n",
    "\n",
    "    # get the latest ETD for each flight\n",
    "    latest_now_etd = now_etd.groupby(\"gufi\").last().departure_runway_estimated_time\n",
    "\n",
    "    # merge the latest ETD with the flights we are predicting\n",
    "    departure_runway_estimated_time = now_submission_format.merge(\n",
    "        latest_now_etd, how=\"left\", on=\"gufi\"\n",
    "    ).departure_runway_estimated_time\n",
    "\n",
    "    now_prediction = now_submission_format.copy()\n",
    "\n",
    "    now_prediction[\"departure_runway_estimated_time\"] = departure_runway_estimated_time\n",
    "\n",
    "    return now_prediction\n",
    "\n",
    "predictions = process_map(\n",
    "    estimate_pushback,\n",
    "    pd.to_datetime(cp.timestamp.unique()),\n",
    "    chunksize=20,\n",
    ")\n",
    "\n",
    "predictions = pd.concat(predictions, ignore_index=True)\n",
    "predictions[\"departure_runway_estimated_time\"] = predictions.departure_runway_estimated_time\n",
    "\n",
    "predictions.info()"
   ]
  },
  {
   "cell_type": "code",
   "execution_count": 93,
   "id": "02dfae65",
   "metadata": {},
   "outputs": [],
   "source": [
    "predictions.to_csv('{}_etd.csv'.format(airport), index=False)"
   ]
  }
 ],
 "metadata": {
  "kernelspec": {
   "display_name": "Python 3",
   "language": "python",
   "name": "python3"
  },
  "language_info": {
   "codemirror_mode": {
    "name": "ipython",
    "version": 3
   },
   "file_extension": ".py",
   "mimetype": "text/x-python",
   "name": "python",
   "nbconvert_exporter": "python",
   "pygments_lexer": "ipython3",
   "version": "3.8.8"
  }
 },
 "nbformat": 4,
 "nbformat_minor": 5
}
