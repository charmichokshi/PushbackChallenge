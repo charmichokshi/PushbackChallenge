{
 "cells": [
  {
   "cell_type": "code",
   "execution_count": 1,
   "id": "75d187e2",
   "metadata": {},
   "outputs": [],
   "source": [
    "from datetime import timedelta\n",
    "from pathlib import Path\n",
    "\n",
    "import matplotlib.pyplot as plt\n",
    "import numpy as np\n",
    "import pandas as pd"
   ]
  },
  {
   "cell_type": "code",
   "execution_count": 2,
   "id": "a12f250d",
   "metadata": {},
   "outputs": [],
   "source": [
    "airports = [\n",
    "    \"KATL\",\n",
    "    \"KCLT\",\n",
    "    \"KDEN\",\n",
    "    \"KDFW\",\n",
    "    \"KJFK\",\n",
    "    \"KMEM\",\n",
    "    \"KMIA\",\n",
    "    \"KORD\",\n",
    "    \"KPHX\",\n",
    "    \"KSEA\",\n",
    "]"
   ]
  },
  {
   "cell_type": "code",
   "execution_count": 3,
   "id": "a7210350",
   "metadata": {},
   "outputs": [],
   "source": [
    "airport = \"KATL\""
   ]
  },
  {
   "cell_type": "code",
   "execution_count": 4,
   "id": "d3b69709",
   "metadata": {},
   "outputs": [
    {
     "name": "stdout",
     "output_type": "stream",
     "text": [
      "/home/charmichokshi4444/Data\r\n"
     ]
    }
   ],
   "source": [
    "!pwd"
   ]
  },
  {
   "cell_type": "code",
   "execution_count": 5,
   "id": "760d288c",
   "metadata": {},
   "outputs": [],
   "source": [
    "# !tar -xvf KSEA.tar"
   ]
  },
  {
   "cell_type": "code",
   "execution_count": 6,
   "id": "e996f767",
   "metadata": {},
   "outputs": [],
   "source": [
    "DATA_DIRECTORY = Path(\"./\")\n"
   ]
  },
  {
   "cell_type": "code",
   "execution_count": 7,
   "id": "d9330386",
   "metadata": {},
   "outputs": [
    {
     "data": {
      "text/plain": [
       "PosixPath('.')"
      ]
     },
     "execution_count": 7,
     "metadata": {},
     "output_type": "execute_result"
    }
   ],
   "source": [
    "DATA_DIRECTORY"
   ]
  },
  {
   "cell_type": "code",
   "execution_count": 25,
   "id": "f8d3f667",
   "metadata": {},
   "outputs": [
    {
     "data": {
      "text/html": [
       "<div>\n",
       "<style scoped>\n",
       "    .dataframe tbody tr th:only-of-type {\n",
       "        vertical-align: middle;\n",
       "    }\n",
       "\n",
       "    .dataframe tbody tr th {\n",
       "        vertical-align: top;\n",
       "    }\n",
       "\n",
       "    .dataframe thead th {\n",
       "        text-align: right;\n",
       "    }\n",
       "</style>\n",
       "<table border=\"1\" class=\"dataframe\">\n",
       "  <thead>\n",
       "    <tr style=\"text-align: right;\">\n",
       "      <th></th>\n",
       "      <th>gufi</th>\n",
       "      <th>timestamp</th>\n",
       "      <th>airport</th>\n",
       "      <th>minutes_until_pushback</th>\n",
       "    </tr>\n",
       "  </thead>\n",
       "  <tbody>\n",
       "    <tr>\n",
       "      <th>0</th>\n",
       "      <td>AAL1006.SEA.DFW.210818.0059.0063.TFM</td>\n",
       "      <td>2021-08-18 23:45:00</td>\n",
       "      <td>KSEA</td>\n",
       "      <td>80</td>\n",
       "    </tr>\n",
       "    <tr>\n",
       "      <th>1</th>\n",
       "      <td>AAL1006.SEA.DFW.210818.0059.0063.TFM</td>\n",
       "      <td>2021-08-19 00:00:00</td>\n",
       "      <td>KSEA</td>\n",
       "      <td>65</td>\n",
       "    </tr>\n",
       "    <tr>\n",
       "      <th>2</th>\n",
       "      <td>AAL1006.SEA.DFW.210818.0059.0063.TFM</td>\n",
       "      <td>2021-08-19 00:15:00</td>\n",
       "      <td>KSEA</td>\n",
       "      <td>50</td>\n",
       "    </tr>\n",
       "    <tr>\n",
       "      <th>3</th>\n",
       "      <td>AAL1006.SEA.DFW.210818.0059.0063.TFM</td>\n",
       "      <td>2021-08-19 00:30:00</td>\n",
       "      <td>KSEA</td>\n",
       "      <td>35</td>\n",
       "    </tr>\n",
       "    <tr>\n",
       "      <th>4</th>\n",
       "      <td>AAL1006.SEA.DFW.210818.0059.0063.TFM</td>\n",
       "      <td>2021-08-19 00:45:00</td>\n",
       "      <td>KSEA</td>\n",
       "      <td>20</td>\n",
       "    </tr>\n",
       "    <tr>\n",
       "      <th>...</th>\n",
       "      <td>...</td>\n",
       "      <td>...</td>\n",
       "      <td>...</td>\n",
       "      <td>...</td>\n",
       "    </tr>\n",
       "    <tr>\n",
       "      <th>1647428</th>\n",
       "      <td>XSR718.SEA.ADS.220421.1759.0024.TFM</td>\n",
       "      <td>2022-04-21 19:45:00</td>\n",
       "      <td>KSEA</td>\n",
       "      <td>75</td>\n",
       "    </tr>\n",
       "    <tr>\n",
       "      <th>1647429</th>\n",
       "      <td>XSR718.SEA.ADS.220421.1759.0024.TFM</td>\n",
       "      <td>2022-04-21 20:00:00</td>\n",
       "      <td>KSEA</td>\n",
       "      <td>60</td>\n",
       "    </tr>\n",
       "    <tr>\n",
       "      <th>1647430</th>\n",
       "      <td>XSR718.SEA.ADS.220421.1759.0024.TFM</td>\n",
       "      <td>2022-04-21 20:15:00</td>\n",
       "      <td>KSEA</td>\n",
       "      <td>45</td>\n",
       "    </tr>\n",
       "    <tr>\n",
       "      <th>1647431</th>\n",
       "      <td>XSR718.SEA.ADS.220421.1759.0024.TFM</td>\n",
       "      <td>2022-04-21 20:30:00</td>\n",
       "      <td>KSEA</td>\n",
       "      <td>30</td>\n",
       "    </tr>\n",
       "    <tr>\n",
       "      <th>1647432</th>\n",
       "      <td>XSR718.SEA.ADS.220421.1759.0024.TFM</td>\n",
       "      <td>2022-04-21 20:45:00</td>\n",
       "      <td>KSEA</td>\n",
       "      <td>15</td>\n",
       "    </tr>\n",
       "  </tbody>\n",
       "</table>\n",
       "<p>1647433 rows × 4 columns</p>\n",
       "</div>"
      ],
      "text/plain": [
       "                                         gufi            timestamp airport  \\\n",
       "0        AAL1006.SEA.DFW.210818.0059.0063.TFM  2021-08-18 23:45:00    KSEA   \n",
       "1        AAL1006.SEA.DFW.210818.0059.0063.TFM  2021-08-19 00:00:00    KSEA   \n",
       "2        AAL1006.SEA.DFW.210818.0059.0063.TFM  2021-08-19 00:15:00    KSEA   \n",
       "3        AAL1006.SEA.DFW.210818.0059.0063.TFM  2021-08-19 00:30:00    KSEA   \n",
       "4        AAL1006.SEA.DFW.210818.0059.0063.TFM  2021-08-19 00:45:00    KSEA   \n",
       "...                                       ...                  ...     ...   \n",
       "1647428   XSR718.SEA.ADS.220421.1759.0024.TFM  2022-04-21 19:45:00    KSEA   \n",
       "1647429   XSR718.SEA.ADS.220421.1759.0024.TFM  2022-04-21 20:00:00    KSEA   \n",
       "1647430   XSR718.SEA.ADS.220421.1759.0024.TFM  2022-04-21 20:15:00    KSEA   \n",
       "1647431   XSR718.SEA.ADS.220421.1759.0024.TFM  2022-04-21 20:30:00    KSEA   \n",
       "1647432   XSR718.SEA.ADS.220421.1759.0024.TFM  2022-04-21 20:45:00    KSEA   \n",
       "\n",
       "         minutes_until_pushback  \n",
       "0                            80  \n",
       "1                            65  \n",
       "2                            50  \n",
       "3                            35  \n",
       "4                            20  \n",
       "...                         ...  \n",
       "1647428                      75  \n",
       "1647429                      60  \n",
       "1647430                      45  \n",
       "1647431                      30  \n",
       "1647432                      15  \n",
       "\n",
       "[1647433 rows x 4 columns]"
      ]
     },
     "execution_count": 25,
     "metadata": {},
     "output_type": "execute_result"
    }
   ],
   "source": [
    "airport = \"KSEA\"\n",
    "pushback = pd.read_csv(DATA_DIRECTORY / f\"train_labels_{airport}.csv.bz2\")\n",
    "pushback"
   ]
  },
  {
   "cell_type": "code",
   "execution_count": 26,
   "id": "b490565d",
   "metadata": {},
   "outputs": [
    {
     "data": {
      "text/html": [
       "<div>\n",
       "<style scoped>\n",
       "    .dataframe tbody tr th:only-of-type {\n",
       "        vertical-align: middle;\n",
       "    }\n",
       "\n",
       "    .dataframe tbody tr th {\n",
       "        vertical-align: top;\n",
       "    }\n",
       "\n",
       "    .dataframe thead th {\n",
       "        text-align: right;\n",
       "    }\n",
       "</style>\n",
       "<table border=\"1\" class=\"dataframe\">\n",
       "  <thead>\n",
       "    <tr style=\"text-align: right;\">\n",
       "      <th></th>\n",
       "      <th>gufi</th>\n",
       "      <th>timestamp</th>\n",
       "      <th>departure_runway_estimated_time</th>\n",
       "    </tr>\n",
       "  </thead>\n",
       "  <tbody>\n",
       "    <tr>\n",
       "      <th>0</th>\n",
       "      <td>QXE2364.SEA.PUW.211031.0555.0013.TFM</td>\n",
       "      <td>2021-11-01 07:00:01</td>\n",
       "      <td>2021-11-01 06:04:00</td>\n",
       "    </tr>\n",
       "    <tr>\n",
       "      <th>1</th>\n",
       "      <td>UAL2379.SEA.IAH.211101.0700.0022.TFM</td>\n",
       "      <td>2021-11-01 07:00:39</td>\n",
       "      <td>2021-11-02 07:09:00</td>\n",
       "    </tr>\n",
       "    <tr>\n",
       "      <th>2</th>\n",
       "      <td>UAL2497.SEA.ORD.211101.0655.0009.TFM</td>\n",
       "      <td>2021-11-01 07:00:41</td>\n",
       "      <td>2021-11-02 07:09:00</td>\n",
       "    </tr>\n",
       "    <tr>\n",
       "      <th>3</th>\n",
       "      <td>AAL1119.SEA.ORD.211101.0655.0010.TFM</td>\n",
       "      <td>2021-11-01 07:00:42</td>\n",
       "      <td>2021-11-02 07:11:00</td>\n",
       "    </tr>\n",
       "    <tr>\n",
       "      <th>4</th>\n",
       "      <td>ASA7095.SEA.ANC.211101.0655.0005.TFM</td>\n",
       "      <td>2021-11-01 07:00:43</td>\n",
       "      <td>2021-11-02 07:10:00</td>\n",
       "    </tr>\n",
       "    <tr>\n",
       "      <th>...</th>\n",
       "      <td>...</td>\n",
       "      <td>...</td>\n",
       "      <td>...</td>\n",
       "    </tr>\n",
       "    <tr>\n",
       "      <th>6028928</th>\n",
       "      <td>DAL869.SEA.ATL.211030.1910.0084.TFM</td>\n",
       "      <td>2021-10-31 22:59:25</td>\n",
       "      <td>2021-10-31 20:19:00</td>\n",
       "    </tr>\n",
       "    <tr>\n",
       "      <th>6028929</th>\n",
       "      <td>DAL1747.SEA.DTW.211030.1915.0062.TFM</td>\n",
       "      <td>2021-10-31 22:58:52</td>\n",
       "      <td>2021-10-31 19:28:00</td>\n",
       "    </tr>\n",
       "    <tr>\n",
       "      <th>6028930</th>\n",
       "      <td>ASA1482.SEA.ANC.211030.1950.0079.TFM</td>\n",
       "      <td>2021-10-31 22:59:36</td>\n",
       "      <td>2021-10-31 20:05:00</td>\n",
       "    </tr>\n",
       "    <tr>\n",
       "      <th>6028931</th>\n",
       "      <td>ASA1430.SEA.LAS.211030.2100.0182.TFM</td>\n",
       "      <td>2021-10-31 22:59:37</td>\n",
       "      <td>2021-10-31 21:19:00</td>\n",
       "    </tr>\n",
       "    <tr>\n",
       "      <th>6028932</th>\n",
       "      <td>QXE2438.SEA.RDD.211031.0055.0096.TFM</td>\n",
       "      <td>2021-10-31 22:59:47</td>\n",
       "      <td>2021-11-01 01:00:00</td>\n",
       "    </tr>\n",
       "  </tbody>\n",
       "</table>\n",
       "<p>6028933 rows × 3 columns</p>\n",
       "</div>"
      ],
      "text/plain": [
       "                                         gufi           timestamp  \\\n",
       "0        QXE2364.SEA.PUW.211031.0555.0013.TFM 2021-11-01 07:00:01   \n",
       "1        UAL2379.SEA.IAH.211101.0700.0022.TFM 2021-11-01 07:00:39   \n",
       "2        UAL2497.SEA.ORD.211101.0655.0009.TFM 2021-11-01 07:00:41   \n",
       "3        AAL1119.SEA.ORD.211101.0655.0010.TFM 2021-11-01 07:00:42   \n",
       "4        ASA7095.SEA.ANC.211101.0655.0005.TFM 2021-11-01 07:00:43   \n",
       "...                                       ...                 ...   \n",
       "6028928   DAL869.SEA.ATL.211030.1910.0084.TFM 2021-10-31 22:59:25   \n",
       "6028929  DAL1747.SEA.DTW.211030.1915.0062.TFM 2021-10-31 22:58:52   \n",
       "6028930  ASA1482.SEA.ANC.211030.1950.0079.TFM 2021-10-31 22:59:36   \n",
       "6028931  ASA1430.SEA.LAS.211030.2100.0182.TFM 2021-10-31 22:59:37   \n",
       "6028932  QXE2438.SEA.RDD.211031.0055.0096.TFM 2021-10-31 22:59:47   \n",
       "\n",
       "        departure_runway_estimated_time  \n",
       "0                   2021-11-01 06:04:00  \n",
       "1                   2021-11-02 07:09:00  \n",
       "2                   2021-11-02 07:09:00  \n",
       "3                   2021-11-02 07:11:00  \n",
       "4                   2021-11-02 07:10:00  \n",
       "...                                 ...  \n",
       "6028928             2021-10-31 20:19:00  \n",
       "6028929             2021-10-31 19:28:00  \n",
       "6028930             2021-10-31 20:05:00  \n",
       "6028931             2021-10-31 21:19:00  \n",
       "6028932             2021-11-01 01:00:00  \n",
       "\n",
       "[6028933 rows x 3 columns]"
      ]
     },
     "execution_count": 26,
     "metadata": {},
     "output_type": "execute_result"
    }
   ],
   "source": [
    "etd = pd.read_csv(\n",
    "    DATA_DIRECTORY / airport / f\"{airport}_etd.csv.bz2\",\n",
    "    parse_dates=[\"departure_runway_estimated_time\", \"timestamp\"],\n",
    ")\n",
    "etd"
   ]
  },
  {
   "cell_type": "code",
   "execution_count": 27,
   "id": "12b8148b",
   "metadata": {},
   "outputs": [
    {
     "data": {
      "text/html": [
       "<div>\n",
       "<style scoped>\n",
       "    .dataframe tbody tr th:only-of-type {\n",
       "        vertical-align: middle;\n",
       "    }\n",
       "\n",
       "    .dataframe tbody tr th {\n",
       "        vertical-align: top;\n",
       "    }\n",
       "\n",
       "    .dataframe thead th {\n",
       "        text-align: right;\n",
       "    }\n",
       "</style>\n",
       "<table border=\"1\" class=\"dataframe\">\n",
       "  <thead>\n",
       "    <tr style=\"text-align: right;\">\n",
       "      <th></th>\n",
       "      <th>gufi</th>\n",
       "      <th>timestamp</th>\n",
       "      <th>airport</th>\n",
       "      <th>minutes_until_pushback</th>\n",
       "    </tr>\n",
       "  </thead>\n",
       "  <tbody>\n",
       "    <tr>\n",
       "      <th>0</th>\n",
       "      <td>AAL1008.ATL.DFW.210607.2033.0110.TFM</td>\n",
       "      <td>2021-06-08 19:15:00</td>\n",
       "      <td>KATL</td>\n",
       "      <td>0</td>\n",
       "    </tr>\n",
       "    <tr>\n",
       "      <th>1</th>\n",
       "      <td>AAL1008.ATL.DFW.210607.2033.0110.TFM</td>\n",
       "      <td>2021-06-08 19:30:00</td>\n",
       "      <td>KATL</td>\n",
       "      <td>0</td>\n",
       "    </tr>\n",
       "    <tr>\n",
       "      <th>2</th>\n",
       "      <td>AAL1008.ATL.DFW.210607.2033.0110.TFM</td>\n",
       "      <td>2021-06-08 19:45:00</td>\n",
       "      <td>KATL</td>\n",
       "      <td>0</td>\n",
       "    </tr>\n",
       "    <tr>\n",
       "      <th>3</th>\n",
       "      <td>AAL1008.ATL.DFW.210607.2033.0110.TFM</td>\n",
       "      <td>2021-06-08 20:00:00</td>\n",
       "      <td>KATL</td>\n",
       "      <td>0</td>\n",
       "    </tr>\n",
       "    <tr>\n",
       "      <th>4</th>\n",
       "      <td>AAL1008.ATL.DFW.210607.2033.0110.TFM</td>\n",
       "      <td>2021-06-08 20:15:00</td>\n",
       "      <td>KATL</td>\n",
       "      <td>0</td>\n",
       "    </tr>\n",
       "    <tr>\n",
       "      <th>...</th>\n",
       "      <td>...</td>\n",
       "      <td>...</td>\n",
       "      <td>...</td>\n",
       "      <td>...</td>\n",
       "    </tr>\n",
       "    <tr>\n",
       "      <th>2042718</th>\n",
       "      <td>XOJ760.SEA.SJC.210606.0435.0007.TFM</td>\n",
       "      <td>2021-06-06 20:45:00</td>\n",
       "      <td>KSEA</td>\n",
       "      <td>0</td>\n",
       "    </tr>\n",
       "    <tr>\n",
       "      <th>2042719</th>\n",
       "      <td>XOJ760.SEA.SJC.210606.0435.0007.TFM</td>\n",
       "      <td>2021-06-06 21:00:00</td>\n",
       "      <td>KSEA</td>\n",
       "      <td>0</td>\n",
       "    </tr>\n",
       "    <tr>\n",
       "      <th>2042720</th>\n",
       "      <td>XOJ760.SEA.SJC.210606.0435.0007.TFM</td>\n",
       "      <td>2021-06-06 21:15:00</td>\n",
       "      <td>KSEA</td>\n",
       "      <td>0</td>\n",
       "    </tr>\n",
       "    <tr>\n",
       "      <th>2042721</th>\n",
       "      <td>XOJ760.SEA.SJC.210606.0435.0007.TFM</td>\n",
       "      <td>2021-06-06 21:30:00</td>\n",
       "      <td>KSEA</td>\n",
       "      <td>0</td>\n",
       "    </tr>\n",
       "    <tr>\n",
       "      <th>2042722</th>\n",
       "      <td>XOJ760.SEA.SJC.210606.0435.0007.TFM</td>\n",
       "      <td>2021-06-06 21:45:00</td>\n",
       "      <td>KSEA</td>\n",
       "      <td>0</td>\n",
       "    </tr>\n",
       "  </tbody>\n",
       "</table>\n",
       "<p>2042723 rows × 4 columns</p>\n",
       "</div>"
      ],
      "text/plain": [
       "                                         gufi           timestamp airport  \\\n",
       "0        AAL1008.ATL.DFW.210607.2033.0110.TFM 2021-06-08 19:15:00    KATL   \n",
       "1        AAL1008.ATL.DFW.210607.2033.0110.TFM 2021-06-08 19:30:00    KATL   \n",
       "2        AAL1008.ATL.DFW.210607.2033.0110.TFM 2021-06-08 19:45:00    KATL   \n",
       "3        AAL1008.ATL.DFW.210607.2033.0110.TFM 2021-06-08 20:00:00    KATL   \n",
       "4        AAL1008.ATL.DFW.210607.2033.0110.TFM 2021-06-08 20:15:00    KATL   \n",
       "...                                       ...                 ...     ...   \n",
       "2042718   XOJ760.SEA.SJC.210606.0435.0007.TFM 2021-06-06 20:45:00    KSEA   \n",
       "2042719   XOJ760.SEA.SJC.210606.0435.0007.TFM 2021-06-06 21:00:00    KSEA   \n",
       "2042720   XOJ760.SEA.SJC.210606.0435.0007.TFM 2021-06-06 21:15:00    KSEA   \n",
       "2042721   XOJ760.SEA.SJC.210606.0435.0007.TFM 2021-06-06 21:30:00    KSEA   \n",
       "2042722   XOJ760.SEA.SJC.210606.0435.0007.TFM 2021-06-06 21:45:00    KSEA   \n",
       "\n",
       "         minutes_until_pushback  \n",
       "0                             0  \n",
       "1                             0  \n",
       "2                             0  \n",
       "3                             0  \n",
       "4                             0  \n",
       "...                         ...  \n",
       "2042718                       0  \n",
       "2042719                       0  \n",
       "2042720                       0  \n",
       "2042721                       0  \n",
       "2042722                       0  \n",
       "\n",
       "[2042723 rows x 4 columns]"
      ]
     },
     "execution_count": 27,
     "metadata": {},
     "output_type": "execute_result"
    }
   ],
   "source": [
    "submission_format = pd.read_csv(\n",
    "    DATA_DIRECTORY / \"submission_format.csv\", parse_dates=[\"timestamp\"]\n",
    ")\n",
    "submission_format"
   ]
  },
  {
   "cell_type": "code",
   "execution_count": 28,
   "id": "f7a09e8a",
   "metadata": {},
   "outputs": [
    {
     "data": {
      "text/plain": [
       "gufi                      AAL1008.ATL.DFW.211204.2135.0163.TFM\n",
       "timestamp                                  2021-12-05 21:00:00\n",
       "airport                                                   KATL\n",
       "minutes_until_pushback                                       0\n",
       "Name: 200, dtype: object"
      ]
     },
     "execution_count": 28,
     "metadata": {},
     "output_type": "execute_result"
    }
   ],
   "source": [
    "row = submission_format.iloc[200]\n",
    "row"
   ]
  },
  {
   "cell_type": "code",
   "execution_count": 29,
   "id": "58ccb3fa",
   "metadata": {},
   "outputs": [
    {
     "name": "stderr",
     "output_type": "stream",
     "text": [
      "<ipython-input-29-80cd9d03c814>:2: SettingWithCopyWarning: \n",
      "A value is trying to be set on a copy of a slice from a DataFrame\n",
      "\n",
      "See the caveats in the documentation: https://pandas.pydata.org/pandas-docs/stable/user_guide/indexing.html#returning-a-view-versus-a-copy\n",
      "  row['timestamp'] = pd.to_datetime(row['timestamp'])\n"
     ]
    }
   ],
   "source": [
    "etd['timestamp'] = pd.to_datetime(etd['timestamp'])\n",
    "row['timestamp'] = pd.to_datetime(row['timestamp'])\n",
    "\n",
    "# etd['timestamp'] = pd.to_datetime(etd['timestamp'])"
   ]
  },
  {
   "cell_type": "code",
   "execution_count": 38,
   "id": "2a870721",
   "metadata": {},
   "outputs": [
    {
     "data": {
      "text/html": [
       "<div>\n",
       "<style scoped>\n",
       "    .dataframe tbody tr th:only-of-type {\n",
       "        vertical-align: middle;\n",
       "    }\n",
       "\n",
       "    .dataframe tbody tr th {\n",
       "        vertical-align: top;\n",
       "    }\n",
       "\n",
       "    .dataframe thead th {\n",
       "        text-align: right;\n",
       "    }\n",
       "</style>\n",
       "<table border=\"1\" class=\"dataframe\">\n",
       "  <thead>\n",
       "    <tr style=\"text-align: right;\">\n",
       "      <th></th>\n",
       "      <th>gufi</th>\n",
       "      <th>timestamp</th>\n",
       "      <th>departure_runway_estimated_time</th>\n",
       "    </tr>\n",
       "  </thead>\n",
       "  <tbody>\n",
       "  </tbody>\n",
       "</table>\n",
       "</div>"
      ],
      "text/plain": [
       "Empty DataFrame\n",
       "Columns: [gufi, timestamp, departure_runway_estimated_time]\n",
       "Index: []"
      ]
     },
     "execution_count": 38,
     "metadata": {},
     "output_type": "execute_result"
    }
   ],
   "source": [
    "now_etd = etd.loc[\n",
    "    (etd.timestamp > row.timestamp - timedelta(hours=30))\n",
    "    & (etd.timestamp <= row.timestamp)\n",
    "    & (etd.gufi == row.gufi)\n",
    "]\n",
    "now_etd"
   ]
  },
  {
   "cell_type": "code",
   "execution_count": 31,
   "id": "7448d8e3",
   "metadata": {},
   "outputs": [
    {
     "ename": "IndexError",
     "evalue": "single positional indexer is out-of-bounds",
     "output_type": "error",
     "traceback": [
      "\u001b[0;31m---------------------------------------------------------------------------\u001b[0m",
      "\u001b[0;31mIndexError\u001b[0m                                Traceback (most recent call last)",
      "\u001b[0;32m<ipython-input-31-349c829e9c60>\u001b[0m in \u001b[0;36m<module>\u001b[0;34m\u001b[0m\n\u001b[0;32m----> 1\u001b[0;31m flight_pushback = now_etd.iloc[-1].departure_runway_estimated_time - timedelta(\n\u001b[0m\u001b[1;32m      2\u001b[0m     \u001b[0mminutes\u001b[0m\u001b[0;34m=\u001b[0m\u001b[0;36m15\u001b[0m\u001b[0;34m\u001b[0m\u001b[0;34m\u001b[0m\u001b[0m\n\u001b[1;32m      3\u001b[0m )\n\u001b[1;32m      4\u001b[0m \u001b[0mflight_pushback\u001b[0m\u001b[0;34m\u001b[0m\u001b[0;34m\u001b[0m\u001b[0m\n",
      "\u001b[0;32m~/anaconda3/lib/python3.8/site-packages/pandas/core/indexing.py\u001b[0m in \u001b[0;36m__getitem__\u001b[0;34m(self, key)\u001b[0m\n\u001b[1;32m    893\u001b[0m \u001b[0;34m\u001b[0m\u001b[0m\n\u001b[1;32m    894\u001b[0m             \u001b[0mmaybe_callable\u001b[0m \u001b[0;34m=\u001b[0m \u001b[0mcom\u001b[0m\u001b[0;34m.\u001b[0m\u001b[0mapply_if_callable\u001b[0m\u001b[0;34m(\u001b[0m\u001b[0mkey\u001b[0m\u001b[0;34m,\u001b[0m \u001b[0mself\u001b[0m\u001b[0;34m.\u001b[0m\u001b[0mobj\u001b[0m\u001b[0;34m)\u001b[0m\u001b[0;34m\u001b[0m\u001b[0;34m\u001b[0m\u001b[0m\n\u001b[0;32m--> 895\u001b[0;31m             \u001b[0;32mreturn\u001b[0m \u001b[0mself\u001b[0m\u001b[0;34m.\u001b[0m\u001b[0m_getitem_axis\u001b[0m\u001b[0;34m(\u001b[0m\u001b[0mmaybe_callable\u001b[0m\u001b[0;34m,\u001b[0m \u001b[0maxis\u001b[0m\u001b[0;34m=\u001b[0m\u001b[0maxis\u001b[0m\u001b[0;34m)\u001b[0m\u001b[0;34m\u001b[0m\u001b[0;34m\u001b[0m\u001b[0m\n\u001b[0m\u001b[1;32m    896\u001b[0m \u001b[0;34m\u001b[0m\u001b[0m\n\u001b[1;32m    897\u001b[0m     \u001b[0;32mdef\u001b[0m \u001b[0m_is_scalar_access\u001b[0m\u001b[0;34m(\u001b[0m\u001b[0mself\u001b[0m\u001b[0;34m,\u001b[0m \u001b[0mkey\u001b[0m\u001b[0;34m:\u001b[0m \u001b[0mTuple\u001b[0m\u001b[0;34m)\u001b[0m\u001b[0;34m:\u001b[0m\u001b[0;34m\u001b[0m\u001b[0;34m\u001b[0m\u001b[0m\n",
      "\u001b[0;32m~/anaconda3/lib/python3.8/site-packages/pandas/core/indexing.py\u001b[0m in \u001b[0;36m_getitem_axis\u001b[0;34m(self, key, axis)\u001b[0m\n\u001b[1;32m   1499\u001b[0m \u001b[0;34m\u001b[0m\u001b[0m\n\u001b[1;32m   1500\u001b[0m             \u001b[0;31m# validate the location\u001b[0m\u001b[0;34m\u001b[0m\u001b[0;34m\u001b[0m\u001b[0;34m\u001b[0m\u001b[0m\n\u001b[0;32m-> 1501\u001b[0;31m             \u001b[0mself\u001b[0m\u001b[0;34m.\u001b[0m\u001b[0m_validate_integer\u001b[0m\u001b[0;34m(\u001b[0m\u001b[0mkey\u001b[0m\u001b[0;34m,\u001b[0m \u001b[0maxis\u001b[0m\u001b[0;34m)\u001b[0m\u001b[0;34m\u001b[0m\u001b[0;34m\u001b[0m\u001b[0m\n\u001b[0m\u001b[1;32m   1502\u001b[0m \u001b[0;34m\u001b[0m\u001b[0m\n\u001b[1;32m   1503\u001b[0m             \u001b[0;32mreturn\u001b[0m \u001b[0mself\u001b[0m\u001b[0;34m.\u001b[0m\u001b[0mobj\u001b[0m\u001b[0;34m.\u001b[0m\u001b[0m_ixs\u001b[0m\u001b[0;34m(\u001b[0m\u001b[0mkey\u001b[0m\u001b[0;34m,\u001b[0m \u001b[0maxis\u001b[0m\u001b[0;34m=\u001b[0m\u001b[0maxis\u001b[0m\u001b[0;34m)\u001b[0m\u001b[0;34m\u001b[0m\u001b[0;34m\u001b[0m\u001b[0m\n",
      "\u001b[0;32m~/anaconda3/lib/python3.8/site-packages/pandas/core/indexing.py\u001b[0m in \u001b[0;36m_validate_integer\u001b[0;34m(self, key, axis)\u001b[0m\n\u001b[1;32m   1442\u001b[0m         \u001b[0mlen_axis\u001b[0m \u001b[0;34m=\u001b[0m \u001b[0mlen\u001b[0m\u001b[0;34m(\u001b[0m\u001b[0mself\u001b[0m\u001b[0;34m.\u001b[0m\u001b[0mobj\u001b[0m\u001b[0;34m.\u001b[0m\u001b[0m_get_axis\u001b[0m\u001b[0;34m(\u001b[0m\u001b[0maxis\u001b[0m\u001b[0;34m)\u001b[0m\u001b[0;34m)\u001b[0m\u001b[0;34m\u001b[0m\u001b[0;34m\u001b[0m\u001b[0m\n\u001b[1;32m   1443\u001b[0m         \u001b[0;32mif\u001b[0m \u001b[0mkey\u001b[0m \u001b[0;34m>=\u001b[0m \u001b[0mlen_axis\u001b[0m \u001b[0;32mor\u001b[0m \u001b[0mkey\u001b[0m \u001b[0;34m<\u001b[0m \u001b[0;34m-\u001b[0m\u001b[0mlen_axis\u001b[0m\u001b[0;34m:\u001b[0m\u001b[0;34m\u001b[0m\u001b[0;34m\u001b[0m\u001b[0m\n\u001b[0;32m-> 1444\u001b[0;31m             \u001b[0;32mraise\u001b[0m \u001b[0mIndexError\u001b[0m\u001b[0;34m(\u001b[0m\u001b[0;34m\"single positional indexer is out-of-bounds\"\u001b[0m\u001b[0;34m)\u001b[0m\u001b[0;34m\u001b[0m\u001b[0;34m\u001b[0m\u001b[0m\n\u001b[0m\u001b[1;32m   1445\u001b[0m \u001b[0;34m\u001b[0m\u001b[0m\n\u001b[1;32m   1446\u001b[0m     \u001b[0;31m# -------------------------------------------------------------------\u001b[0m\u001b[0;34m\u001b[0m\u001b[0;34m\u001b[0m\u001b[0;34m\u001b[0m\u001b[0m\n",
      "\u001b[0;31mIndexError\u001b[0m: single positional indexer is out-of-bounds"
     ]
    }
   ],
   "source": [
    "flight_pushback = now_etd.iloc[-1].departure_runway_estimated_time - timedelta(\n",
    "    minutes=15\n",
    ")\n",
    "flight_pushback"
   ]
  },
  {
   "cell_type": "code",
   "execution_count": 32,
   "id": "984a5c09",
   "metadata": {},
   "outputs": [
    {
     "data": {
      "text/plain": [
       "41"
      ]
     },
     "execution_count": 32,
     "metadata": {},
     "output_type": "execute_result"
    }
   ],
   "source": [
    "flight_minutes_to_pushback = np.round(\n",
    "    (flight_pushback - row.timestamp).total_seconds() / 60\n",
    ").astype(int)\n",
    "flight_minutes_to_pushback"
   ]
  },
  {
   "cell_type": "code",
   "execution_count": 33,
   "id": "794a7c2f",
   "metadata": {},
   "outputs": [
    {
     "data": {
      "text/html": [
       "<div>\n",
       "<style scoped>\n",
       "    .dataframe tbody tr th:only-of-type {\n",
       "        vertical-align: middle;\n",
       "    }\n",
       "\n",
       "    .dataframe tbody tr th {\n",
       "        vertical-align: top;\n",
       "    }\n",
       "\n",
       "    .dataframe thead th {\n",
       "        text-align: right;\n",
       "    }\n",
       "</style>\n",
       "<table border=\"1\" class=\"dataframe\">\n",
       "  <thead>\n",
       "    <tr style=\"text-align: right;\">\n",
       "      <th></th>\n",
       "      <th>gufi</th>\n",
       "      <th>timestamp</th>\n",
       "      <th>airport</th>\n",
       "      <th>minutes_until_pushback</th>\n",
       "    </tr>\n",
       "  </thead>\n",
       "  <tbody>\n",
       "    <tr>\n",
       "      <th>0</th>\n",
       "      <td>AAL1915.SEA.DFW.211204.2145.0122.TFM</td>\n",
       "      <td>2021-12-05 21:00:00</td>\n",
       "      <td>KSEA</td>\n",
       "      <td>0</td>\n",
       "    </tr>\n",
       "    <tr>\n",
       "      <th>1</th>\n",
       "      <td>AAL1987.SEA.ORD.211204.2105.0116.TFM</td>\n",
       "      <td>2021-12-05 21:00:00</td>\n",
       "      <td>KSEA</td>\n",
       "      <td>0</td>\n",
       "    </tr>\n",
       "    <tr>\n",
       "      <th>2</th>\n",
       "      <td>ASA112.SEA.ANC.211204.2130.0091.TFM</td>\n",
       "      <td>2021-12-05 21:00:00</td>\n",
       "      <td>KSEA</td>\n",
       "      <td>0</td>\n",
       "    </tr>\n",
       "    <tr>\n",
       "      <th>3</th>\n",
       "      <td>ASA1465.SEA.FAI.211204.2135.0162.TFM</td>\n",
       "      <td>2021-12-05 21:00:00</td>\n",
       "      <td>KSEA</td>\n",
       "      <td>0</td>\n",
       "    </tr>\n",
       "    <tr>\n",
       "      <th>4</th>\n",
       "      <td>ASA1470.SEA.TUS.211204.2120.0075.TFM</td>\n",
       "      <td>2021-12-05 21:00:00</td>\n",
       "      <td>KSEA</td>\n",
       "      <td>0</td>\n",
       "    </tr>\n",
       "    <tr>\n",
       "      <th>5</th>\n",
       "      <td>ASA158.SEA.DAL.211204.2055.0138.TFM</td>\n",
       "      <td>2021-12-05 21:00:00</td>\n",
       "      <td>KSEA</td>\n",
       "      <td>0</td>\n",
       "    </tr>\n",
       "    <tr>\n",
       "      <th>6</th>\n",
       "      <td>ASA2.SEA.DCA.211204.2150.0039.TFM</td>\n",
       "      <td>2021-12-05 21:00:00</td>\n",
       "      <td>KSEA</td>\n",
       "      <td>0</td>\n",
       "    </tr>\n",
       "    <tr>\n",
       "      <th>7</th>\n",
       "      <td>ASA338.SEA.SJC.211204.2145.0104.TFM</td>\n",
       "      <td>2021-12-05 21:00:00</td>\n",
       "      <td>KSEA</td>\n",
       "      <td>0</td>\n",
       "    </tr>\n",
       "    <tr>\n",
       "      <th>8</th>\n",
       "      <td>ASA596.SEA.LAS.211204.2210.0102.TFM</td>\n",
       "      <td>2021-12-05 21:00:00</td>\n",
       "      <td>KSEA</td>\n",
       "      <td>0</td>\n",
       "    </tr>\n",
       "    <tr>\n",
       "      <th>9</th>\n",
       "      <td>ASA7004.SEA.KTN.211204.2220.0071.TFM</td>\n",
       "      <td>2021-12-05 21:00:00</td>\n",
       "      <td>KSEA</td>\n",
       "      <td>0</td>\n",
       "    </tr>\n",
       "    <tr>\n",
       "      <th>10</th>\n",
       "      <td>ASA75.SEA.JNU.211204.2110.0056.TFM</td>\n",
       "      <td>2021-12-05 21:00:00</td>\n",
       "      <td>KSEA</td>\n",
       "      <td>0</td>\n",
       "    </tr>\n",
       "    <tr>\n",
       "      <th>11</th>\n",
       "      <td>DAL142.SEA.AMS.211204.2120.0083.TFM</td>\n",
       "      <td>2021-12-05 21:00:00</td>\n",
       "      <td>KSEA</td>\n",
       "      <td>0</td>\n",
       "    </tr>\n",
       "    <tr>\n",
       "      <th>12</th>\n",
       "      <td>DAL364.SEA.ATL.211204.2200.0158.TFM</td>\n",
       "      <td>2021-12-05 21:00:00</td>\n",
       "      <td>KSEA</td>\n",
       "      <td>0</td>\n",
       "    </tr>\n",
       "    <tr>\n",
       "      <th>13</th>\n",
       "      <td>DAL689.SEA.TPA.211204.2155.0052.TFM</td>\n",
       "      <td>2021-12-05 21:00:00</td>\n",
       "      <td>KSEA</td>\n",
       "      <td>0</td>\n",
       "    </tr>\n",
       "    <tr>\n",
       "      <th>14</th>\n",
       "      <td>DAL78.SEA.CDG.211204.2110.0121.TFM</td>\n",
       "      <td>2021-12-05 21:00:00</td>\n",
       "      <td>KSEA</td>\n",
       "      <td>0</td>\n",
       "    </tr>\n",
       "    <tr>\n",
       "      <th>15</th>\n",
       "      <td>DAL868.SEA.LAX.211204.2125.0085.TFM</td>\n",
       "      <td>2021-12-05 21:00:00</td>\n",
       "      <td>KSEA</td>\n",
       "      <td>0</td>\n",
       "    </tr>\n",
       "    <tr>\n",
       "      <th>16</th>\n",
       "      <td>DAL869.SEA.ATL.211204.2020.0150.TFM</td>\n",
       "      <td>2021-12-05 21:00:00</td>\n",
       "      <td>KSEA</td>\n",
       "      <td>0</td>\n",
       "    </tr>\n",
       "    <tr>\n",
       "      <th>17</th>\n",
       "      <td>DAL923.SEA.SLC.211204.2130.0197.TFM</td>\n",
       "      <td>2021-12-05 21:00:00</td>\n",
       "      <td>KSEA</td>\n",
       "      <td>0</td>\n",
       "    </tr>\n",
       "    <tr>\n",
       "      <th>18</th>\n",
       "      <td>DAL945.SEA.MSP.211204.2145.0052.TFM</td>\n",
       "      <td>2021-12-05 21:00:00</td>\n",
       "      <td>KSEA</td>\n",
       "      <td>0</td>\n",
       "    </tr>\n",
       "    <tr>\n",
       "      <th>19</th>\n",
       "      <td>QXE2165.SEA.GEG.211204.2140.0033.TFM</td>\n",
       "      <td>2021-12-05 21:00:00</td>\n",
       "      <td>KSEA</td>\n",
       "      <td>0</td>\n",
       "    </tr>\n",
       "    <tr>\n",
       "      <th>20</th>\n",
       "      <td>QXE2208.SEA.SUN.211204.2215.0098.TFM</td>\n",
       "      <td>2021-12-05 21:00:00</td>\n",
       "      <td>KSEA</td>\n",
       "      <td>0</td>\n",
       "    </tr>\n",
       "    <tr>\n",
       "      <th>21</th>\n",
       "      <td>QXE2386.SEA.YYJ.211204.2155.0029.TFM</td>\n",
       "      <td>2021-12-05 21:00:00</td>\n",
       "      <td>KSEA</td>\n",
       "      <td>0</td>\n",
       "    </tr>\n",
       "    <tr>\n",
       "      <th>22</th>\n",
       "      <td>QXE2444.SEA.GTF.211204.2225.0134.TFM</td>\n",
       "      <td>2021-12-05 21:00:00</td>\n",
       "      <td>KSEA</td>\n",
       "      <td>0</td>\n",
       "    </tr>\n",
       "    <tr>\n",
       "      <th>23</th>\n",
       "      <td>QXE2525.SEA.ELP.211204.2140.0054.TFM</td>\n",
       "      <td>2021-12-05 21:00:00</td>\n",
       "      <td>KSEA</td>\n",
       "      <td>0</td>\n",
       "    </tr>\n",
       "    <tr>\n",
       "      <th>24</th>\n",
       "      <td>QXE2571.SEA.MSO.211204.2150.0088.TFM</td>\n",
       "      <td>2021-12-05 21:00:00</td>\n",
       "      <td>KSEA</td>\n",
       "      <td>0</td>\n",
       "    </tr>\n",
       "    <tr>\n",
       "      <th>25</th>\n",
       "      <td>QXE2590.SEA.PSP.211204.2210.0062.TFM</td>\n",
       "      <td>2021-12-05 21:00:00</td>\n",
       "      <td>KSEA</td>\n",
       "      <td>0</td>\n",
       "    </tr>\n",
       "    <tr>\n",
       "      <th>26</th>\n",
       "      <td>SKW132K.SEA.BOI.211204.2200.0057.TFM</td>\n",
       "      <td>2021-12-05 21:00:00</td>\n",
       "      <td>KSEA</td>\n",
       "      <td>0</td>\n",
       "    </tr>\n",
       "    <tr>\n",
       "      <th>27</th>\n",
       "      <td>SKW186E.SEA.ONT.211205.0843.0002.TFM</td>\n",
       "      <td>2021-12-05 21:00:00</td>\n",
       "      <td>KSEA</td>\n",
       "      <td>0</td>\n",
       "    </tr>\n",
       "    <tr>\n",
       "      <th>28</th>\n",
       "      <td>SKW3514.SEA.GEG.211204.2115.0042.TFM</td>\n",
       "      <td>2021-12-05 21:00:00</td>\n",
       "      <td>KSEA</td>\n",
       "      <td>0</td>\n",
       "    </tr>\n",
       "    <tr>\n",
       "      <th>29</th>\n",
       "      <td>SKW3530.SEA.SJC.211204.2235.0076.TFM</td>\n",
       "      <td>2021-12-05 21:00:00</td>\n",
       "      <td>KSEA</td>\n",
       "      <td>0</td>\n",
       "    </tr>\n",
       "    <tr>\n",
       "      <th>30</th>\n",
       "      <td>SKW3671.SEA.SFO.211204.2125.0146.TFM</td>\n",
       "      <td>2021-12-05 21:00:00</td>\n",
       "      <td>KSEA</td>\n",
       "      <td>0</td>\n",
       "    </tr>\n",
       "    <tr>\n",
       "      <th>31</th>\n",
       "      <td>SKW3680.SEA.ONT.211204.2210.0030.TFM</td>\n",
       "      <td>2021-12-05 21:00:00</td>\n",
       "      <td>KSEA</td>\n",
       "      <td>0</td>\n",
       "    </tr>\n",
       "    <tr>\n",
       "      <th>32</th>\n",
       "      <td>SKW3808.SEA.YVR.211204.2125.0104.TFM</td>\n",
       "      <td>2021-12-05 21:00:00</td>\n",
       "      <td>KSEA</td>\n",
       "      <td>0</td>\n",
       "    </tr>\n",
       "    <tr>\n",
       "      <th>33</th>\n",
       "      <td>SKW4086.SEA.SMF.211204.2140.0063.TFM</td>\n",
       "      <td>2021-12-05 21:00:00</td>\n",
       "      <td>KSEA</td>\n",
       "      <td>0</td>\n",
       "    </tr>\n",
       "    <tr>\n",
       "      <th>34</th>\n",
       "      <td>UAL2101.SEA.ORD.211204.2205.0117.TFM</td>\n",
       "      <td>2021-12-05 21:00:00</td>\n",
       "      <td>KSEA</td>\n",
       "      <td>0</td>\n",
       "    </tr>\n",
       "    <tr>\n",
       "      <th>35</th>\n",
       "      <td>UAL2207.SEA.IAH.211204.2220.0114.TFM</td>\n",
       "      <td>2021-12-05 21:00:00</td>\n",
       "      <td>KSEA</td>\n",
       "      <td>0</td>\n",
       "    </tr>\n",
       "    <tr>\n",
       "      <th>36</th>\n",
       "      <td>UAL2275.SEA.IAD.211204.2125.0144.TFM</td>\n",
       "      <td>2021-12-05 21:00:00</td>\n",
       "      <td>KSEA</td>\n",
       "      <td>0</td>\n",
       "    </tr>\n",
       "  </tbody>\n",
       "</table>\n",
       "</div>"
      ],
      "text/plain": [
       "                                    gufi           timestamp airport  \\\n",
       "0   AAL1915.SEA.DFW.211204.2145.0122.TFM 2021-12-05 21:00:00    KSEA   \n",
       "1   AAL1987.SEA.ORD.211204.2105.0116.TFM 2021-12-05 21:00:00    KSEA   \n",
       "2    ASA112.SEA.ANC.211204.2130.0091.TFM 2021-12-05 21:00:00    KSEA   \n",
       "3   ASA1465.SEA.FAI.211204.2135.0162.TFM 2021-12-05 21:00:00    KSEA   \n",
       "4   ASA1470.SEA.TUS.211204.2120.0075.TFM 2021-12-05 21:00:00    KSEA   \n",
       "5    ASA158.SEA.DAL.211204.2055.0138.TFM 2021-12-05 21:00:00    KSEA   \n",
       "6      ASA2.SEA.DCA.211204.2150.0039.TFM 2021-12-05 21:00:00    KSEA   \n",
       "7    ASA338.SEA.SJC.211204.2145.0104.TFM 2021-12-05 21:00:00    KSEA   \n",
       "8    ASA596.SEA.LAS.211204.2210.0102.TFM 2021-12-05 21:00:00    KSEA   \n",
       "9   ASA7004.SEA.KTN.211204.2220.0071.TFM 2021-12-05 21:00:00    KSEA   \n",
       "10    ASA75.SEA.JNU.211204.2110.0056.TFM 2021-12-05 21:00:00    KSEA   \n",
       "11   DAL142.SEA.AMS.211204.2120.0083.TFM 2021-12-05 21:00:00    KSEA   \n",
       "12   DAL364.SEA.ATL.211204.2200.0158.TFM 2021-12-05 21:00:00    KSEA   \n",
       "13   DAL689.SEA.TPA.211204.2155.0052.TFM 2021-12-05 21:00:00    KSEA   \n",
       "14    DAL78.SEA.CDG.211204.2110.0121.TFM 2021-12-05 21:00:00    KSEA   \n",
       "15   DAL868.SEA.LAX.211204.2125.0085.TFM 2021-12-05 21:00:00    KSEA   \n",
       "16   DAL869.SEA.ATL.211204.2020.0150.TFM 2021-12-05 21:00:00    KSEA   \n",
       "17   DAL923.SEA.SLC.211204.2130.0197.TFM 2021-12-05 21:00:00    KSEA   \n",
       "18   DAL945.SEA.MSP.211204.2145.0052.TFM 2021-12-05 21:00:00    KSEA   \n",
       "19  QXE2165.SEA.GEG.211204.2140.0033.TFM 2021-12-05 21:00:00    KSEA   \n",
       "20  QXE2208.SEA.SUN.211204.2215.0098.TFM 2021-12-05 21:00:00    KSEA   \n",
       "21  QXE2386.SEA.YYJ.211204.2155.0029.TFM 2021-12-05 21:00:00    KSEA   \n",
       "22  QXE2444.SEA.GTF.211204.2225.0134.TFM 2021-12-05 21:00:00    KSEA   \n",
       "23  QXE2525.SEA.ELP.211204.2140.0054.TFM 2021-12-05 21:00:00    KSEA   \n",
       "24  QXE2571.SEA.MSO.211204.2150.0088.TFM 2021-12-05 21:00:00    KSEA   \n",
       "25  QXE2590.SEA.PSP.211204.2210.0062.TFM 2021-12-05 21:00:00    KSEA   \n",
       "26  SKW132K.SEA.BOI.211204.2200.0057.TFM 2021-12-05 21:00:00    KSEA   \n",
       "27  SKW186E.SEA.ONT.211205.0843.0002.TFM 2021-12-05 21:00:00    KSEA   \n",
       "28  SKW3514.SEA.GEG.211204.2115.0042.TFM 2021-12-05 21:00:00    KSEA   \n",
       "29  SKW3530.SEA.SJC.211204.2235.0076.TFM 2021-12-05 21:00:00    KSEA   \n",
       "30  SKW3671.SEA.SFO.211204.2125.0146.TFM 2021-12-05 21:00:00    KSEA   \n",
       "31  SKW3680.SEA.ONT.211204.2210.0030.TFM 2021-12-05 21:00:00    KSEA   \n",
       "32  SKW3808.SEA.YVR.211204.2125.0104.TFM 2021-12-05 21:00:00    KSEA   \n",
       "33  SKW4086.SEA.SMF.211204.2140.0063.TFM 2021-12-05 21:00:00    KSEA   \n",
       "34  UAL2101.SEA.ORD.211204.2205.0117.TFM 2021-12-05 21:00:00    KSEA   \n",
       "35  UAL2207.SEA.IAH.211204.2220.0114.TFM 2021-12-05 21:00:00    KSEA   \n",
       "36  UAL2275.SEA.IAD.211204.2125.0144.TFM 2021-12-05 21:00:00    KSEA   \n",
       "\n",
       "    minutes_until_pushback  \n",
       "0                        0  \n",
       "1                        0  \n",
       "2                        0  \n",
       "3                        0  \n",
       "4                        0  \n",
       "5                        0  \n",
       "6                        0  \n",
       "7                        0  \n",
       "8                        0  \n",
       "9                        0  \n",
       "10                       0  \n",
       "11                       0  \n",
       "12                       0  \n",
       "13                       0  \n",
       "14                       0  \n",
       "15                       0  \n",
       "16                       0  \n",
       "17                       0  \n",
       "18                       0  \n",
       "19                       0  \n",
       "20                       0  \n",
       "21                       0  \n",
       "22                       0  \n",
       "23                       0  \n",
       "24                       0  \n",
       "25                       0  \n",
       "26                       0  \n",
       "27                       0  \n",
       "28                       0  \n",
       "29                       0  \n",
       "30                       0  \n",
       "31                       0  \n",
       "32                       0  \n",
       "33                       0  \n",
       "34                       0  \n",
       "35                       0  \n",
       "36                       0  "
      ]
     },
     "execution_count": 33,
     "metadata": {},
     "output_type": "execute_result"
    }
   ],
   "source": [
    "now_submission_format = submission_format.loc[\n",
    "    (submission_format.timestamp == row.timestamp)\n",
    "    & (submission_format.airport == airport)\n",
    "].reset_index(drop=True)\n",
    "now_submission_format"
   ]
  },
  {
   "cell_type": "code",
   "execution_count": 34,
   "id": "615f18dc",
   "metadata": {},
   "outputs": [],
   "source": [
    "etd.sort_values(\"timestamp\", inplace=True)\n",
    "now_etd = etd.loc[\n",
    "    (etd.timestamp > row.timestamp - timedelta(hours=30))\n",
    "    & (etd.timestamp <= row.timestamp)\n",
    "]\n",
    "now_etd\n",
    "latest_now_etd = now_etd.groupby(\"gufi\").last().departure_runway_estimated_time"
   ]
  },
  {
   "cell_type": "code",
   "execution_count": null,
   "id": "7ba4c446",
   "metadata": {},
   "outputs": [],
   "source": [
    "departure_runway_estimated_time = now_submission_format.merge(\n",
    "    latest_now_etd, how=\"left\", on=\"gufi\"\n",
    ").departure_runway_estimated_time\n",
    "departure_runway_estimated_time"
   ]
  },
  {
   "cell_type": "code",
   "execution_count": null,
   "id": "3044d818",
   "metadata": {},
   "outputs": [],
   "source": [
    "estimated_pushback = (\n",
    "    (\n",
    "        departure_runway_estimated_time - now_submission_format.timestamp\n",
    "    ).dt.total_seconds()\n",
    "    / 60\n",
    ") - 15"
   ]
  },
  {
   "cell_type": "code",
   "execution_count": null,
   "id": "35e913ce",
   "metadata": {},
   "outputs": [],
   "source": [
    "estimated_pushback = estimated_pushback.clip(lower=0).astype(int)\n",
    "estimated_pushback"
   ]
  },
  {
   "cell_type": "code",
   "execution_count": null,
   "id": "1dd0848b",
   "metadata": {},
   "outputs": [],
   "source": []
  },
  {
   "cell_type": "code",
   "execution_count": null,
   "id": "9c76b926",
   "metadata": {},
   "outputs": [],
   "source": []
  },
  {
   "cell_type": "code",
   "execution_count": null,
   "id": "e8a683a7",
   "metadata": {},
   "outputs": [],
   "source": []
  },
  {
   "cell_type": "code",
   "execution_count": 35,
   "id": "2dfc812e",
   "metadata": {},
   "outputs": [],
   "source": [
    "def estimate_pushback(now: pd.Timestamp) -> pd.Series:\n",
    "\n",
    "    etd['timestamp'] = pd.to_datetime(etd['timestamp'])\n",
    "    now = pd.to_datetime(now)\n",
    "\n",
    "    # subset submission format to the current prediction time\n",
    "    now_submission_format = airport_submission_format.loc[\n",
    "        airport_submission_format.timestamp == now\n",
    "    ].reset_index(drop=True)\n",
    "\n",
    "    # filter features to 30 hours before prediction time to prediction time\n",
    "    now_etd = etd.loc[(etd.timestamp > now - timedelta(hours=30)) & (etd.timestamp <= now)]\n",
    "    \n",
    "    # get the latest ETD for each flight\n",
    "    latest_now_etd = now_etd.groupby(\"gufi\").last().departure_runway_estimated_time\n",
    "\n",
    "    # merge the latest ETD with the flights we are predicting\n",
    "    departure_runway_estimated_time = now_submission_format.merge(\n",
    "        latest_now_etd, how=\"left\", on=\"gufi\"\n",
    "    ).departure_runway_estimated_time\n",
    "\n",
    "    now_prediction = now_submission_format.copy()\n",
    "\n",
    "    now_prediction[\"minutes_until_pushback\"] = (\n",
    "        (departure_runway_estimated_time - now_submission_format.timestamp).dt.total_seconds() / 60\n",
    "    ) - 15\n",
    "\n",
    "    return now_prediction"
   ]
  },
  {
   "cell_type": "code",
   "execution_count": 36,
   "id": "aa31b251",
   "metadata": {},
   "outputs": [],
   "source": [
    "from tqdm import tqdm\n",
    "from tqdm.contrib.concurrent import process_map"
   ]
  },
  {
   "cell_type": "code",
   "execution_count": 39,
   "id": "f64c1614",
   "metadata": {},
   "outputs": [
    {
     "data": {
      "application/vnd.jupyter.widget-view+json": {
       "model_id": "33186213a4c04a10916fb6e412505f2b",
       "version_major": 2,
       "version_minor": 0
      },
      "text/plain": [
       "  0%|          | 0/4880 [00:00<?, ?it/s]"
      ]
     },
     "metadata": {},
     "output_type": "display_data"
    },
    {
     "data": {
      "text/html": [
       "<div>\n",
       "<style scoped>\n",
       "    .dataframe tbody tr th:only-of-type {\n",
       "        vertical-align: middle;\n",
       "    }\n",
       "\n",
       "    .dataframe tbody tr th {\n",
       "        vertical-align: top;\n",
       "    }\n",
       "\n",
       "    .dataframe thead th {\n",
       "        text-align: right;\n",
       "    }\n",
       "</style>\n",
       "<table border=\"1\" class=\"dataframe\">\n",
       "  <thead>\n",
       "    <tr style=\"text-align: right;\">\n",
       "      <th></th>\n",
       "      <th>gufi</th>\n",
       "      <th>timestamp</th>\n",
       "      <th>airport</th>\n",
       "      <th>minutes_until_pushback</th>\n",
       "    </tr>\n",
       "  </thead>\n",
       "  <tbody>\n",
       "    <tr>\n",
       "      <th>0</th>\n",
       "      <td>AAL1006.SEA.DFW.210827.1300.0052.TFM_TFDM</td>\n",
       "      <td>2021-08-28 00:00:00</td>\n",
       "      <td>KSEA</td>\n",
       "      <td>74.0</td>\n",
       "    </tr>\n",
       "    <tr>\n",
       "      <th>1</th>\n",
       "      <td>ASA107.SEA.ANC.210827.2140.0020.TFM</td>\n",
       "      <td>2021-08-28 00:00:00</td>\n",
       "      <td>KSEA</td>\n",
       "      <td>29.0</td>\n",
       "    </tr>\n",
       "    <tr>\n",
       "      <th>2</th>\n",
       "      <td>ASA1092.SEA.LAX.210827.2157.0001.TFM</td>\n",
       "      <td>2021-08-28 00:00:00</td>\n",
       "      <td>KSEA</td>\n",
       "      <td>66.0</td>\n",
       "    </tr>\n",
       "    <tr>\n",
       "      <th>3</th>\n",
       "      <td>ASA1146.SEA.AUS.210827.2140.0044.TFM</td>\n",
       "      <td>2021-08-28 00:00:00</td>\n",
       "      <td>KSEA</td>\n",
       "      <td>57.0</td>\n",
       "    </tr>\n",
       "    <tr>\n",
       "      <th>4</th>\n",
       "      <td>ASA123.SEA.FAI.210827.1442.0018.TFM</td>\n",
       "      <td>2021-08-28 00:00:00</td>\n",
       "      <td>KSEA</td>\n",
       "      <td>65.0</td>\n",
       "    </tr>\n",
       "    <tr>\n",
       "      <th>...</th>\n",
       "      <td>...</td>\n",
       "      <td>...</td>\n",
       "      <td>...</td>\n",
       "      <td>...</td>\n",
       "    </tr>\n",
       "    <tr>\n",
       "      <th>157315</th>\n",
       "      <td>UAL2436.SEA.DEN.210211.1321.0008.TFM</td>\n",
       "      <td>2021-02-12 12:00:00</td>\n",
       "      <td>KSEA</td>\n",
       "      <td>83.0</td>\n",
       "    </tr>\n",
       "    <tr>\n",
       "      <th>157316</th>\n",
       "      <td>UAL2436.SEA.DEN.210213.1321.0001.TFM</td>\n",
       "      <td>2021-02-14 12:00:00</td>\n",
       "      <td>KSEA</td>\n",
       "      <td>83.0</td>\n",
       "    </tr>\n",
       "    <tr>\n",
       "      <th>157317</th>\n",
       "      <td>UAL2436.SEA.DEN.210213.1321.0001.TFM</td>\n",
       "      <td>2021-02-14 12:15:00</td>\n",
       "      <td>KSEA</td>\n",
       "      <td>68.0</td>\n",
       "    </tr>\n",
       "    <tr>\n",
       "      <th>157318</th>\n",
       "      <td>UAL2436.SEA.DEN.210213.1321.0001.TFM</td>\n",
       "      <td>2021-02-14 12:30:00</td>\n",
       "      <td>KSEA</td>\n",
       "      <td>53.0</td>\n",
       "    </tr>\n",
       "    <tr>\n",
       "      <th>157319</th>\n",
       "      <td>UAL2436.SEA.DEN.210214.1321.0010.TFM</td>\n",
       "      <td>2021-02-15 12:00:00</td>\n",
       "      <td>KSEA</td>\n",
       "      <td>83.0</td>\n",
       "    </tr>\n",
       "  </tbody>\n",
       "</table>\n",
       "<p>157320 rows × 4 columns</p>\n",
       "</div>"
      ],
      "text/plain": [
       "                                             gufi           timestamp airport  \\\n",
       "0       AAL1006.SEA.DFW.210827.1300.0052.TFM_TFDM 2021-08-28 00:00:00    KSEA   \n",
       "1             ASA107.SEA.ANC.210827.2140.0020.TFM 2021-08-28 00:00:00    KSEA   \n",
       "2            ASA1092.SEA.LAX.210827.2157.0001.TFM 2021-08-28 00:00:00    KSEA   \n",
       "3            ASA1146.SEA.AUS.210827.2140.0044.TFM 2021-08-28 00:00:00    KSEA   \n",
       "4             ASA123.SEA.FAI.210827.1442.0018.TFM 2021-08-28 00:00:00    KSEA   \n",
       "...                                           ...                 ...     ...   \n",
       "157315       UAL2436.SEA.DEN.210211.1321.0008.TFM 2021-02-12 12:00:00    KSEA   \n",
       "157316       UAL2436.SEA.DEN.210213.1321.0001.TFM 2021-02-14 12:00:00    KSEA   \n",
       "157317       UAL2436.SEA.DEN.210213.1321.0001.TFM 2021-02-14 12:15:00    KSEA   \n",
       "157318       UAL2436.SEA.DEN.210213.1321.0001.TFM 2021-02-14 12:30:00    KSEA   \n",
       "157319       UAL2436.SEA.DEN.210214.1321.0010.TFM 2021-02-15 12:00:00    KSEA   \n",
       "\n",
       "        minutes_until_pushback  \n",
       "0                         74.0  \n",
       "1                         29.0  \n",
       "2                         66.0  \n",
       "3                         57.0  \n",
       "4                         65.0  \n",
       "...                        ...  \n",
       "157315                    83.0  \n",
       "157316                    83.0  \n",
       "157317                    68.0  \n",
       "157318                    53.0  \n",
       "157319                    83.0  \n",
       "\n",
       "[157320 rows x 4 columns]"
      ]
     },
     "execution_count": 39,
     "metadata": {},
     "output_type": "execute_result"
    }
   ],
   "source": [
    "airport_submission_format = submission_format.loc[submission_format.airport == airport]\n",
    "predictions = process_map(\n",
    "    estimate_pushback,\n",
    "    pd.to_datetime(airport_submission_format.timestamp.unique()),\n",
    "    chunksize=10,\n",
    ")\n",
    "\n",
    "pd.concat(predictions, ignore_index=True)"
   ]
  },
  {
   "cell_type": "code",
   "execution_count": 40,
   "id": "7c409dfb",
   "metadata": {},
   "outputs": [
    {
     "name": "stdout",
     "output_type": "stream",
     "text": [
      "Processing KATL\n"
     ]
    },
    {
     "data": {
      "application/vnd.jupyter.widget-view+json": {
       "model_id": "8f49cf316db6462bbbb93eaf2f09e0a5",
       "version_major": 2,
       "version_minor": 0
      },
      "text/plain": [
       "  0%|          | 0/4817 [00:00<?, ?it/s]"
      ]
     },
     "metadata": {},
     "output_type": "display_data"
    },
    {
     "name": "stdout",
     "output_type": "stream",
     "text": [
      "Processing KCLT\n"
     ]
    },
    {
     "data": {
      "application/vnd.jupyter.widget-view+json": {
       "model_id": "7f6a25c7c13b4290bc0822b95334f3fb",
       "version_major": 2,
       "version_minor": 0
      },
      "text/plain": [
       "  0%|          | 0/4462 [00:00<?, ?it/s]"
      ]
     },
     "metadata": {},
     "output_type": "display_data"
    },
    {
     "name": "stdout",
     "output_type": "stream",
     "text": [
      "Processing KDEN\n"
     ]
    },
    {
     "data": {
      "application/vnd.jupyter.widget-view+json": {
       "model_id": "f0785db1ef2b4bdb85ef4a79770913df",
       "version_major": 2,
       "version_minor": 0
      },
      "text/plain": [
       "  0%|          | 0/5013 [00:00<?, ?it/s]"
      ]
     },
     "metadata": {},
     "output_type": "display_data"
    },
    {
     "name": "stdout",
     "output_type": "stream",
     "text": [
      "Processing KDFW\n"
     ]
    },
    {
     "data": {
      "application/vnd.jupyter.widget-view+json": {
       "model_id": "72bb75eae06c4d2e8a7bc5b277727e69",
       "version_major": 2,
       "version_minor": 0
      },
      "text/plain": [
       "  0%|          | 0/4916 [00:00<?, ?it/s]"
      ]
     },
     "metadata": {},
     "output_type": "display_data"
    },
    {
     "name": "stdout",
     "output_type": "stream",
     "text": [
      "Processing KJFK\n"
     ]
    },
    {
     "data": {
      "application/vnd.jupyter.widget-view+json": {
       "model_id": "a037e05a30864f7f8eb3953655c62447",
       "version_major": 2,
       "version_minor": 0
      },
      "text/plain": [
       "  0%|          | 0/4638 [00:00<?, ?it/s]"
      ]
     },
     "metadata": {},
     "output_type": "display_data"
    },
    {
     "name": "stdout",
     "output_type": "stream",
     "text": [
      "Processing KMEM\n"
     ]
    },
    {
     "data": {
      "application/vnd.jupyter.widget-view+json": {
       "model_id": "0265ec5f50534d508af149578c7e4768",
       "version_major": 2,
       "version_minor": 0
      },
      "text/plain": [
       "  0%|          | 0/4906 [00:00<?, ?it/s]"
      ]
     },
     "metadata": {},
     "output_type": "display_data"
    },
    {
     "name": "stdout",
     "output_type": "stream",
     "text": [
      "Processing KMIA\n"
     ]
    },
    {
     "data": {
      "application/vnd.jupyter.widget-view+json": {
       "model_id": "debbc924af4b47fcaed656893fa005ad",
       "version_major": 2,
       "version_minor": 0
      },
      "text/plain": [
       "  0%|          | 0/4765 [00:00<?, ?it/s]"
      ]
     },
     "metadata": {},
     "output_type": "display_data"
    },
    {
     "name": "stdout",
     "output_type": "stream",
     "text": [
      "Processing KORD\n"
     ]
    },
    {
     "data": {
      "application/vnd.jupyter.widget-view+json": {
       "model_id": "21b84492bcfa484ba5ea15f5bb8600ef",
       "version_major": 2,
       "version_minor": 0
      },
      "text/plain": [
       "  0%|          | 0/4670 [00:00<?, ?it/s]"
      ]
     },
     "metadata": {},
     "output_type": "display_data"
    },
    {
     "name": "stdout",
     "output_type": "stream",
     "text": [
      "Processing KPHX\n"
     ]
    },
    {
     "data": {
      "application/vnd.jupyter.widget-view+json": {
       "model_id": "9ec8b63ac3f34179b8850dc3508141a6",
       "version_major": 2,
       "version_minor": 0
      },
      "text/plain": [
       "  0%|          | 0/4963 [00:00<?, ?it/s]"
      ]
     },
     "metadata": {},
     "output_type": "display_data"
    },
    {
     "name": "stdout",
     "output_type": "stream",
     "text": [
      "Processing KSEA\n"
     ]
    },
    {
     "data": {
      "application/vnd.jupyter.widget-view+json": {
       "model_id": "082f10ae4603444780397ea1d829ad2a",
       "version_major": 2,
       "version_minor": 0
      },
      "text/plain": [
       "  0%|          | 0/4880 [00:00<?, ?it/s]"
      ]
     },
     "metadata": {},
     "output_type": "display_data"
    }
   ],
   "source": [
    "for airport in airports:\n",
    "    print(f\"Processing {airport}\")\n",
    "    airport_predictions_path = Path(f\"validation_predictions_{airport}.csv.bz2\")\n",
    "    if airport_predictions_path.exists():\n",
    "        print(f\"Predictions for {airport} already exist.\")\n",
    "        continue\n",
    "\n",
    "    # subset submission format to current airport\n",
    "    airport_submission_format = submission_format.loc[\n",
    "        submission_format.airport == airport\n",
    "    ]\n",
    "\n",
    "    # load airport's ETD data and sort by timestamp\n",
    "    etd = pd.read_csv(\n",
    "        DATA_DIRECTORY / airport / f\"{airport}_etd.csv.bz2\",\n",
    "        parse_dates=[\"departure_runway_estimated_time\", \"timestamp\"],\n",
    "    ).sort_values(\"timestamp\")\n",
    "\n",
    "    # process all prediction times in parallel\n",
    "    predictions = process_map(\n",
    "        estimate_pushback,\n",
    "        pd.to_datetime(airport_submission_format.timestamp.unique()),\n",
    "        chunksize=20,\n",
    "    )\n",
    "\n",
    "    # concatenate individual prediction times to a single dataframe\n",
    "    predictions = pd.concat(predictions, ignore_index=True)\n",
    "    predictions[\"minutes_until_pushback\"] = predictions.minutes_until_pushback.clip(\n",
    "        lower=0\n",
    "    ).astype(int)\n",
    "\n",
    "    # reindex the predictions to match the expected ordering in the submission format\n",
    "    predictions = (\n",
    "        predictions.set_index([\"gufi\", \"timestamp\", \"airport\"])\n",
    "        .loc[\n",
    "            airport_submission_format.set_index([\"gufi\", \"timestamp\", \"airport\"]).index\n",
    "        ]\n",
    "        .reset_index()\n",
    "    )\n",
    "\n",
    "    # save the predictions for the current airport\n",
    "    predictions.to_csv(airport_predictions_path, index=False)"
   ]
  },
  {
   "cell_type": "code",
   "execution_count": 41,
   "id": "ec9a9fc3",
   "metadata": {},
   "outputs": [
    {
     "data": {
      "text/plain": [
       "58"
      ]
     },
     "execution_count": 41,
     "metadata": {},
     "output_type": "execute_result"
    }
   ],
   "source": [
    "58"
   ]
  },
  {
   "cell_type": "code",
   "execution_count": 42,
   "id": "7ff1d0e4",
   "metadata": {},
   "outputs": [],
   "source": [
    "predictions = []\n",
    "\n",
    "for airport in airports:\n",
    "    airport_predictions_path = Path(f\"validation_predictions_{airport}.csv.bz2\")\n",
    "    predictions.append(pd.read_csv(airport_predictions_path, parse_dates=[\"timestamp\"]))\n",
    "\n",
    "predictions = pd.concat(predictions, ignore_index=True)\n",
    "predictions[\"minutes_until_pushback\"] = predictions.minutes_until_pushback.astype(int)"
   ]
  },
  {
   "cell_type": "code",
   "execution_count": 43,
   "id": "3069a1c9",
   "metadata": {},
   "outputs": [
    {
     "data": {
      "text/plain": [
       "count   2042723.00\n",
       "mean         47.64\n",
       "std          31.54\n",
       "min           0.00\n",
       "25%          23.00\n",
       "50%          45.00\n",
       "75%          69.00\n",
       "max        1469.00\n",
       "Name: minutes_until_pushback, dtype: float64"
      ]
     },
     "metadata": {},
     "output_type": "display_data"
    }
   ],
   "source": [
    "with pd.option_context(\"float_format\", \"{:.2f}\".format):\n",
    "    display(predictions.minutes_until_pushback.describe())"
   ]
  },
  {
   "cell_type": "code",
   "execution_count": 44,
   "id": "61445e22",
   "metadata": {},
   "outputs": [
    {
     "data": {
      "image/png": "[encoded data removed]",
      "text/plain": [
       "<Figure size 900x600 with 1 Axes>"
      ]
     },
     "metadata": {
      "needs_background": "light"
     },
     "output_type": "display_data"
    }
   ],
   "source": [
    "fig, ax = plt.subplots(figsize=(6, 4), dpi=150)\n",
    "predictions.minutes_until_pushback.clip(lower=0, upper=200).hist(bins=np.arange(0, 200), ax=ax)\n",
    "ax.set_title(\"Distribution of predicted minutes to pushback\")\n",
    "ax.set_ylabel(\"Number of predictions\")\n",
    "ax.set_xlabel(\"Minutes to pushback\")\n",
    "_ = plt.show()"
   ]
  },
  {
   "cell_type": "code",
   "execution_count": 45,
   "id": "9a1bd164",
   "metadata": {},
   "outputs": [],
   "source": [
    "assert (predictions.columns == submission_format.columns).all()\n",
    "assert len(predictions) == len(submission_format)\n",
    "assert predictions[[\"gufi\", \"timestamp\", \"airport\"]].equals(\n",
    "    submission_format[[\"gufi\", \"timestamp\", \"airport\"]]\n",
    ")"
   ]
  },
  {
   "cell_type": "code",
   "execution_count": 46,
   "id": "4e414e01",
   "metadata": {},
   "outputs": [],
   "source": [
    "predictions.to_csv(\"validation_predictions_baseline.zip\", index=False)"
   ]
  },
  {
   "cell_type": "code",
   "execution_count": null,
   "id": "dbe02d3a",
   "metadata": {},
   "outputs": [],
   "source": []
  }
 ],
 "metadata": {
  "kernelspec": {
   "display_name": "Python 3",
   "language": "python",
   "name": "python3"
  },
  "language_info": {
   "codemirror_mode": {
    "name": "ipython",
    "version": 3
   },
   "file_extension": ".py",
   "mimetype": "text/x-python",
   "name": "python",
   "nbconvert_exporter": "python",
   "pygments_lexer": "ipython3",
   "version": "3.8.8"
  }
 },
 "nbformat": 4,
 "nbformat_minor": 5
}
