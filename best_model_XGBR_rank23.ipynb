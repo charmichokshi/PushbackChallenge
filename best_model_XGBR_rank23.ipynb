{
 "cells": [
  {
   "cell_type": "code",
   "execution_count": null,
   "id": "75d187e2",
   "metadata": {},
   "outputs": [],
   "source": [
    "from datetime import timedelta\n",
    "from pathlib import Path\n",
    "\n",
    "import matplotlib.pyplot as plt\n",
    "import numpy as np\n",
    "import pandas as pd\n",
    "\n",
    "from tqdm import tqdm\n",
    "from tqdm.contrib.concurrent import process_map\n",
    "\n",
    "from sklearn.ensemble import RandomForestRegressor\n",
    "\n",
    "from sklearn.linear_model import LinearRegression\n",
    "from sklearn.preprocessing import PolynomialFeatures\n",
    "import xgboost as xgb"
   ]
  },
  {
   "cell_type": "code",
   "execution_count": null,
   "id": "a12f250d",
   "metadata": {},
   "outputs": [],
   "source": [
    "airports = [\n",
    "    \"KATL\",\n",
    "    \"KCLT\",\n",
    "    \"KDEN\",\n",
    "    \"KDFW\",\n",
    "    \"KJFK\",\n",
    "    \"KMEM\",\n",
    "    \"KMIA\",\n",
    "    \"KORD\",\n",
    "    \"KPHX\",\n",
    "    \"KSEA\",\n",
    "]\n",
    "\n",
    "DATA_DIRECTORY = Path(\"./\")"
   ]
  },
  {
   "cell_type": "code",
   "execution_count": null,
   "id": "a2747a20",
   "metadata": {},
   "outputs": [],
   "source": [
    "submission_format = pd.read_csv(\n",
    "    DATA_DIRECTORY / \"submission_format.csv\", parse_dates=[\"timestamp\"]\n",
    ")\n",
    "submission_format"
   ]
  },
  {
   "cell_type": "code",
   "execution_count": null,
   "id": "cb2bffab",
   "metadata": {},
   "outputs": [],
   "source": [
    "submission_format.minutes_until_pushback = submission_format.minutes_until_pushback.astype(np.float32)\n",
    "submission_format"
   ]
  },
  {
   "cell_type": "code",
   "execution_count": null,
   "id": "7914c4c4",
   "metadata": {},
   "outputs": [],
   "source": [
    "submission_format.info()"
   ]
  },
  {
   "cell_type": "code",
   "execution_count": null,
   "id": "a7210350",
   "metadata": {},
   "outputs": [],
   "source": [
    "for airport in airports:\n",
    "    print(airport)\n",
    "    \n",
    "#     data prep\n",
    "    pushback = pd.read_csv(DATA_DIRECTORY / f\"{airport}_etd.csv\")\n",
    "    \n",
    "    pushback['timestamp'] = pd.to_datetime(pushback['timestamp'], errors='coerce')\n",
    "    pushback['departure_runway_estimated_time'] = pd.to_datetime(pushback['departure_runway_estimated_time'], errors='coerce')\n",
    "\n",
    "    estimated_pushback = (\n",
    "        (pushback.departure_runway_estimated_time - pushback.timestamp\n",
    "        ).dt.total_seconds()\n",
    "        / 60)\n",
    "\n",
    "    estimated_pushback = estimated_pushback.clip(lower=0)\n",
    "\n",
    "    pushback['etd_minus_timestamp'] = estimated_pushback\n",
    "    \n",
    "#     train\n",
    "    X = pushback.etd_minus_timestamp.to_numpy().reshape(-1, 1).astype(np.float32)\n",
    "    y = pushback.minutes_until_pushback.to_numpy().astype(np.float32)\n",
    "    \n",
    "    xg_boost = xgb.XGBRegressor(\n",
    "                objective=\"reg:squarederror\",\n",
    "                n_estimators=1000,\n",
    "                max_depth=7,\n",
    "                eta=0.1,\n",
    "                subsample=0.7,\n",
    "                colsample_bytree=0.8,\n",
    "                random_state=42,\n",
    "            )\n",
    "    xg_boost.fit(X, y)\n",
    "    \n",
    "#     rfr = RandomForestRegressor(n_estimators=200, random_state=42)\n",
    "\n",
    "#     transformer = PolynomialFeatures(degree=3, include_bias=False)\n",
    "#     x_ = transformer.fit_transform(X)\n",
    "    \n",
    "#     reg = LinearRegression().fit(x_, y)\n",
    "#     print(reg.coef_, reg.intercept_)\n",
    "    \n",
    "#      test\n",
    "    val_pushback = pd.read_csv(DATA_DIRECTORY / f\"{airport}_val_etd.csv\")\n",
    "\n",
    "    val_pushback['timestamp'] = pd.to_datetime(val_pushback['timestamp'], errors='coerce')\n",
    "    val_pushback['departure_runway_estimated_time'] = pd.to_datetime(val_pushback['departure_runway_estimated_time'], errors='coerce')\n",
    "\n",
    "    val_estimated_pushback = (\n",
    "        (val_pushback.departure_runway_estimated_time - val_pushback.timestamp\n",
    "        ).dt.total_seconds()\n",
    "        / 60)\n",
    "\n",
    "    val_estimated_pushback = val_estimated_pushback.clip(lower=0).astype(np.float32)\n",
    "\n",
    "    val_pushback['etd_minus_timestamp'] = val_estimated_pushback\n",
    "    \n",
    "#     xx = val_pushback.etd_minus_timestamp.to_numpy().reshape(-1, 1)\n",
    "#     transformer = PolynomialFeatures(degree=5, include_bias=False)\n",
    "#     xx_ = transformer.fit_transform(xx)\n",
    "    \n",
    "    val_pushback.minutes_until_pushback = xg_boost.predict(val_pushback.etd_minus_timestamp.to_numpy().reshape(-1, 1))\n",
    "\n",
    "    val_pushback = val_pushback.drop(['departure_runway_estimated_time', 'etd_minus_timestamp'], axis=1)\n",
    "    \n",
    "#     print(val_pushback.head())\n",
    "    \n",
    "    # merge the dataframes on columns a, b, and c\n",
    "    merged_df = pd.merge(submission_format, val_pushback[['gufi', 'timestamp', 'airport', 'minutes_until_pushback']],\n",
    "                         on=['gufi', 'timestamp', 'airport'], how='left')\n",
    "\n",
    "    # update the value of d in df1 with the value from merged_df\n",
    "    submission_format['minutes_until_pushback'] = merged_df['minutes_until_pushback_y'].fillna(merged_df['minutes_until_pushback_x'])\n",
    "\n",
    "#     print(submission_format)"
   ]
  },
  {
   "cell_type": "code",
   "execution_count": null,
   "id": "40b189db",
   "metadata": {},
   "outputs": [],
   "source": [
    "submission_format.describe()"
   ]
  },
  {
   "cell_type": "code",
   "execution_count": null,
   "id": "9df28ff1",
   "metadata": {},
   "outputs": [],
   "source": [
    "submission_format.minutes_until_pushback = submission_format.minutes_until_pushback.round().astype(int)\n",
    "submission_format"
   ]
  },
  {
   "cell_type": "code",
   "execution_count": null,
   "id": "cdd21d93",
   "metadata": {},
   "outputs": [],
   "source": [
    "submission_format.minutes_until_pushback = submission_format.minutes_until_pushback.clip(lower=0).astype(int)\n",
    "submission_format.describe()"
   ]
  },
  {
   "cell_type": "code",
   "execution_count": null,
   "id": "61445e22",
   "metadata": {
    "scrolled": true
   },
   "outputs": [],
   "source": [
    "fig, ax = plt.subplots(figsize=(6, 4), dpi=150)\n",
    "submission_format.minutes_until_pushback.clip(lower=0, upper=200).hist(bins=np.arange(0, 200), ax=ax)\n",
    "ax.set_title(\"Distribution of predicted minutes to pushback\")\n",
    "ax.set_ylabel(\"Number of predictions\")\n",
    "ax.set_xlabel(\"Minutes to pushback\")\n",
    "_ = plt.show()"
   ]
  },
  {
   "cell_type": "code",
   "execution_count": null,
   "id": "41456455",
   "metadata": {},
   "outputs": [],
   "source": [
    "submission_format"
   ]
  },
  {
   "cell_type": "code",
   "execution_count": null,
   "id": "4e414e01",
   "metadata": {},
   "outputs": [],
   "source": [
    "submission_format.to_csv(\"xgbr_200.zip\", index=False)"
   ]
  }
 ],
 "metadata": {
  "kernelspec": {
   "display_name": "Python 3",
   "language": "python",
   "name": "python3"
  },
  "language_info": {
   "codemirror_mode": {
    "name": "ipython",
    "version": 3
   },
   "file_extension": ".py",
   "mimetype": "text/x-python",
   "name": "python",
   "nbconvert_exporter": "python",
   "pygments_lexer": "ipython3",
   "version": "3.8.8"
  }
 },
 "nbformat": 4,
 "nbformat_minor": 5
}
